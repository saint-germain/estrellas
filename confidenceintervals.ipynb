{
 "cells": [
  {
   "cell_type": "code",
   "execution_count": 53,
   "metadata": {
    "collapsed": false
   },
   "outputs": [
    {
     "name": "stderr",
     "output_type": "stream",
     "text": [
      "/usr/local/lib/python2.7/dist-packages/IPython/html.py:14: ShimWarning: The `IPython.html` package has been deprecated. You should import from `notebook` instead. `IPython.html.widgets` has moved to `ipywidgets`.\n",
      "  \"`IPython.html.widgets` has moved to `ipywidgets`.\", ShimWarning)\n"
     ]
    }
   ],
   "source": [
    "import pandas as pd\n",
    "import numpy as np\n",
    "import matplotlib as mpl \n",
    "import matplotlib.pyplot as plt\n",
    "import seaborn as sns\n",
    "%matplotlib inline"
   ]
  },
  {
   "cell_type": "code",
   "execution_count": 46,
   "metadata": {
    "collapsed": false
   },
   "outputs": [],
   "source": [
    "s='CTT.csv'"
   ]
  },
  {
   "cell_type": "code",
   "execution_count": 47,
   "metadata": {
    "collapsed": false
   },
   "outputs": [],
   "source": [
    "df = pd.read_csv(s)"
   ]
  },
  {
   "cell_type": "code",
   "execution_count": 48,
   "metadata": {
    "collapsed": false,
    "scrolled": true
   },
   "outputs": [
    {
     "data": {
      "text/html": [
       "<div>\n",
       "<table border=\"1\" class=\"dataframe\">\n",
       "  <thead>\n",
       "    <tr style=\"text-align: right;\">\n",
       "      <th></th>\n",
       "      <th>#HBC</th>\n",
       "      <th>name</th>\n",
       "      <th>Vmag</th>\n",
       "      <th>B-V</th>\n",
       "      <th>U-B</th>\n",
       "      <th>U-V</th>\n",
       "      <th>(U-V)KH</th>\n",
       "      <th>Exc(U)</th>\n",
       "      <th>vsini</th>\n",
       "      <th>Sp</th>\n",
       "      <th>...</th>\n",
       "      <th>EW</th>\n",
       "      <th>ExcEW</th>\n",
       "      <th>type</th>\n",
       "      <th>_RA.icrs</th>\n",
       "      <th>_DE.icrs</th>\n",
       "      <th>Unnamed: 16</th>\n",
       "      <th>Unnamed: 17</th>\n",
       "      <th>SpT(Li)</th>\n",
       "      <th>Unnamed: 19</th>\n",
       "      <th>Unnamed: 20</th>\n",
       "    </tr>\n",
       "  </thead>\n",
       "  <tbody>\n",
       "    <tr>\n",
       "      <th>0</th>\n",
       "      <td>8</td>\n",
       "      <td>LkH@262</td>\n",
       "      <td>14.56</td>\n",
       "      <td>0.84</td>\n",
       "      <td>-0.40</td>\n",
       "      <td>0.44</td>\n",
       "      <td>1.39</td>\n",
       "      <td>0.95</td>\n",
       "      <td>NaN</td>\n",
       "      <td>M0</td>\n",
       "      <td>...</td>\n",
       "      <td>31.0</td>\n",
       "      <td>24.96</td>\n",
       "      <td>tt</td>\n",
       "      <td>2</td>\n",
       "      <td>56</td>\n",
       "      <td>7.94</td>\n",
       "      <td>20</td>\n",
       "      <td>3</td>\n",
       "      <td>24.2</td>\n",
       "      <td>60.00</td>\n",
       "    </tr>\n",
       "    <tr>\n",
       "      <th>1</th>\n",
       "      <td>23</td>\n",
       "      <td>FMTau</td>\n",
       "      <td>14.22</td>\n",
       "      <td>0.78</td>\n",
       "      <td>-0.40</td>\n",
       "      <td>0.38</td>\n",
       "      <td>1.13</td>\n",
       "      <td>0.75</td>\n",
       "      <td>NaN</td>\n",
       "      <td>M0</td>\n",
       "      <td>...</td>\n",
       "      <td>71.0</td>\n",
       "      <td>64.96</td>\n",
       "      <td>tt</td>\n",
       "      <td>4</td>\n",
       "      <td>14</td>\n",
       "      <td>13.46</td>\n",
       "      <td>28</td>\n",
       "      <td>12</td>\n",
       "      <td>51.1</td>\n",
       "      <td>60.00</td>\n",
       "    </tr>\n",
       "    <tr>\n",
       "      <th>2</th>\n",
       "      <td>24</td>\n",
       "      <td>FNTau</td>\n",
       "      <td>14.95</td>\n",
       "      <td>1.69</td>\n",
       "      <td>0.84</td>\n",
       "      <td>2.53</td>\n",
       "      <td>2.98</td>\n",
       "      <td>0.45</td>\n",
       "      <td>NaN</td>\n",
       "      <td>M5</td>\n",
       "      <td>...</td>\n",
       "      <td>25.0</td>\n",
       "      <td>8.10</td>\n",
       "      <td>tt</td>\n",
       "      <td>4</td>\n",
       "      <td>14</td>\n",
       "      <td>14.59</td>\n",
       "      <td>28</td>\n",
       "      <td>27</td>\n",
       "      <td>59.1</td>\n",
       "      <td>65.00</td>\n",
       "    </tr>\n",
       "    <tr>\n",
       "      <th>3</th>\n",
       "      <td>26</td>\n",
       "      <td>FPTau</td>\n",
       "      <td>13.90</td>\n",
       "      <td>1.53</td>\n",
       "      <td>1.03</td>\n",
       "      <td>2.56</td>\n",
       "      <td>2.80</td>\n",
       "      <td>0.24</td>\n",
       "      <td>NaN</td>\n",
       "      <td>M4</td>\n",
       "      <td>...</td>\n",
       "      <td>38.0</td>\n",
       "      <td>24.24</td>\n",
       "      <td>tt</td>\n",
       "      <td>4</td>\n",
       "      <td>14</td>\n",
       "      <td>47.28</td>\n",
       "      <td>26</td>\n",
       "      <td>46</td>\n",
       "      <td>27.5</td>\n",
       "      <td>64.00</td>\n",
       "    </tr>\n",
       "    <tr>\n",
       "      <th>4</th>\n",
       "      <td>27</td>\n",
       "      <td>CXTau</td>\n",
       "      <td>13.72</td>\n",
       "      <td>1.55</td>\n",
       "      <td>0.85</td>\n",
       "      <td>2.40</td>\n",
       "      <td>2.82</td>\n",
       "      <td>0.42</td>\n",
       "      <td>20</td>\n",
       "      <td>M2.5</td>\n",
       "      <td>...</td>\n",
       "      <td>20.0</td>\n",
       "      <td>9.89</td>\n",
       "      <td>tt</td>\n",
       "      <td>4</td>\n",
       "      <td>14</td>\n",
       "      <td>47.84</td>\n",
       "      <td>26</td>\n",
       "      <td>48</td>\n",
       "      <td>12.2</td>\n",
       "      <td>62.50</td>\n",
       "    </tr>\n",
       "    <tr>\n",
       "      <th>5</th>\n",
       "      <td>630</td>\n",
       "      <td>DDTau</td>\n",
       "      <td>14.11</td>\n",
       "      <td>0.92</td>\n",
       "      <td>-0.46</td>\n",
       "      <td>0.46</td>\n",
       "      <td>1.62</td>\n",
       "      <td>1.16</td>\n",
       "      <td>NaN</td>\n",
       "      <td>M1</td>\n",
       "      <td>...</td>\n",
       "      <td>182.0</td>\n",
       "      <td>174.58</td>\n",
       "      <td>tt</td>\n",
       "      <td>4</td>\n",
       "      <td>18</td>\n",
       "      <td>31.13</td>\n",
       "      <td>28</td>\n",
       "      <td>16</td>\n",
       "      <td>30.1</td>\n",
       "      <td>61.00</td>\n",
       "    </tr>\n",
       "    <tr>\n",
       "      <th>6</th>\n",
       "      <td>31</td>\n",
       "      <td>CZTau</td>\n",
       "      <td>15.33</td>\n",
       "      <td>1.58</td>\n",
       "      <td>1.16</td>\n",
       "      <td>2.74</td>\n",
       "      <td>2.86</td>\n",
       "      <td>0.12</td>\n",
       "      <td>NaN</td>\n",
       "      <td>M1.5</td>\n",
       "      <td>...</td>\n",
       "      <td>4.0</td>\n",
       "      <td>-4.23</td>\n",
       "      <td>tt</td>\n",
       "      <td>4</td>\n",
       "      <td>18</td>\n",
       "      <td>31.59</td>\n",
       "      <td>28</td>\n",
       "      <td>16</td>\n",
       "      <td>59.4</td>\n",
       "      <td>61.50</td>\n",
       "    </tr>\n",
       "    <tr>\n",
       "      <th>7</th>\n",
       "      <td>33</td>\n",
       "      <td>DETau</td>\n",
       "      <td>13.00</td>\n",
       "      <td>1.38</td>\n",
       "      <td>-0.16</td>\n",
       "      <td>1.22</td>\n",
       "      <td>2.64</td>\n",
       "      <td>1.42</td>\n",
       "      <td>10</td>\n",
       "      <td>M2:</td>\n",
       "      <td>...</td>\n",
       "      <td>54.0</td>\n",
       "      <td>44.88</td>\n",
       "      <td>tt</td>\n",
       "      <td>4</td>\n",
       "      <td>21</td>\n",
       "      <td>55.61</td>\n",
       "      <td>27</td>\n",
       "      <td>55</td>\n",
       "      <td>7.2</td>\n",
       "      <td>62.00</td>\n",
       "    </tr>\n",
       "    <tr>\n",
       "      <th>8</th>\n",
       "      <td>36</td>\n",
       "      <td>DFTau</td>\n",
       "      <td>11.49</td>\n",
       "      <td>0.89</td>\n",
       "      <td>-0.42</td>\n",
       "      <td>0.47</td>\n",
       "      <td>1.52</td>\n",
       "      <td>1.05</td>\n",
       "      <td>22</td>\n",
       "      <td>M0,1</td>\n",
       "      <td>...</td>\n",
       "      <td>60.0</td>\n",
       "      <td>53.30</td>\n",
       "      <td>tt</td>\n",
       "      <td>4</td>\n",
       "      <td>27</td>\n",
       "      <td>2.77</td>\n",
       "      <td>25</td>\n",
       "      <td>42</td>\n",
       "      <td>23.2</td>\n",
       "      <td>60.50</td>\n",
       "    </tr>\n",
       "    <tr>\n",
       "      <th>9</th>\n",
       "      <td>37</td>\n",
       "      <td>DGTau</td>\n",
       "      <td>12.01</td>\n",
       "      <td>0.93</td>\n",
       "      <td>-0.30</td>\n",
       "      <td>0.63</td>\n",
       "      <td>0.65</td>\n",
       "      <td>0.02</td>\n",
       "      <td>NaN</td>\n",
       "      <td>M</td>\n",
       "      <td>...</td>\n",
       "      <td>113.0</td>\n",
       "      <td>106.96</td>\n",
       "      <td>tt</td>\n",
       "      <td>4</td>\n",
       "      <td>27</td>\n",
       "      <td>4.67</td>\n",
       "      <td>26</td>\n",
       "      <td>6</td>\n",
       "      <td>16.9</td>\n",
       "      <td>60.00</td>\n",
       "    </tr>\n",
       "    <tr>\n",
       "      <th>10</th>\n",
       "      <td>38</td>\n",
       "      <td>DHTau</td>\n",
       "      <td>13.92</td>\n",
       "      <td>1.40</td>\n",
       "      <td>0.01</td>\n",
       "      <td>1.41</td>\n",
       "      <td>2.65</td>\n",
       "      <td>1.24</td>\n",
       "      <td>NaN</td>\n",
       "      <td>M1</td>\n",
       "      <td>...</td>\n",
       "      <td>53.0</td>\n",
       "      <td>45.58</td>\n",
       "      <td>tt</td>\n",
       "      <td>4</td>\n",
       "      <td>29</td>\n",
       "      <td>41.50</td>\n",
       "      <td>26</td>\n",
       "      <td>32</td>\n",
       "      <td>59.8</td>\n",
       "      <td>61.00</td>\n",
       "    </tr>\n",
       "    <tr>\n",
       "      <th>11</th>\n",
       "      <td>41</td>\n",
       "      <td>IQTau</td>\n",
       "      <td>13.30</td>\n",
       "      <td>1.63</td>\n",
       "      <td>0.67</td>\n",
       "      <td>2.30</td>\n",
       "      <td>2.92</td>\n",
       "      <td>0.62</td>\n",
       "      <td>12</td>\n",
       "      <td>M0.5</td>\n",
       "      <td>...</td>\n",
       "      <td>7.8</td>\n",
       "      <td>1.10</td>\n",
       "      <td>tt</td>\n",
       "      <td>4</td>\n",
       "      <td>29</td>\n",
       "      <td>51.50</td>\n",
       "      <td>26</td>\n",
       "      <td>6</td>\n",
       "      <td>46.5</td>\n",
       "      <td>60.50</td>\n",
       "    </tr>\n",
       "    <tr>\n",
       "      <th>12</th>\n",
       "      <td>44</td>\n",
       "      <td>FXTau</td>\n",
       "      <td>13.90</td>\n",
       "      <td>1.64</td>\n",
       "      <td>1.08</td>\n",
       "      <td>2.72</td>\n",
       "      <td>2.93</td>\n",
       "      <td>0.21</td>\n",
       "      <td>10</td>\n",
       "      <td>M1</td>\n",
       "      <td>...</td>\n",
       "      <td>10.0</td>\n",
       "      <td>2.58</td>\n",
       "      <td>tt</td>\n",
       "      <td>4</td>\n",
       "      <td>30</td>\n",
       "      <td>29.59</td>\n",
       "      <td>24</td>\n",
       "      <td>26</td>\n",
       "      <td>45.8</td>\n",
       "      <td>61.00</td>\n",
       "    </tr>\n",
       "    <tr>\n",
       "      <th>13</th>\n",
       "      <td>46</td>\n",
       "      <td>ZZTau</td>\n",
       "      <td>14.34</td>\n",
       "      <td>1.52</td>\n",
       "      <td>0.48</td>\n",
       "      <td>2.00</td>\n",
       "      <td>2.79</td>\n",
       "      <td>0.79</td>\n",
       "      <td>NaN</td>\n",
       "      <td>M3:</td>\n",
       "      <td>...</td>\n",
       "      <td>15.0</td>\n",
       "      <td>3.80</td>\n",
       "      <td>tt</td>\n",
       "      <td>4</td>\n",
       "      <td>30</td>\n",
       "      <td>51.36</td>\n",
       "      <td>24</td>\n",
       "      <td>42</td>\n",
       "      <td>23.1</td>\n",
       "      <td>63.00</td>\n",
       "    </tr>\n",
       "    <tr>\n",
       "      <th>14</th>\n",
       "      <td>47</td>\n",
       "      <td>V927Tau</td>\n",
       "      <td>14.63</td>\n",
       "      <td>1.52</td>\n",
       "      <td>0.95</td>\n",
       "      <td>2.47</td>\n",
       "      <td>2.79</td>\n",
       "      <td>0.32</td>\n",
       "      <td>19</td>\n",
       "      <td>M5.5</td>\n",
       "      <td>...</td>\n",
       "      <td>4.7</td>\n",
       "      <td>-14.03</td>\n",
       "      <td>tt</td>\n",
       "      <td>4</td>\n",
       "      <td>31</td>\n",
       "      <td>23.77</td>\n",
       "      <td>24</td>\n",
       "      <td>10</td>\n",
       "      <td>53.7</td>\n",
       "      <td>65.50</td>\n",
       "    </tr>\n",
       "    <tr>\n",
       "      <th>15</th>\n",
       "      <td>48</td>\n",
       "      <td>HKTau</td>\n",
       "      <td>15.75</td>\n",
       "      <td>1.73</td>\n",
       "      <td>0.84</td>\n",
       "      <td>2.57</td>\n",
       "      <td>3.00</td>\n",
       "      <td>0.43</td>\n",
       "      <td>22</td>\n",
       "      <td>M0.5</td>\n",
       "      <td>...</td>\n",
       "      <td>29.0</td>\n",
       "      <td>22.30</td>\n",
       "      <td>tt</td>\n",
       "      <td>4</td>\n",
       "      <td>31</td>\n",
       "      <td>50.55</td>\n",
       "      <td>24</td>\n",
       "      <td>24</td>\n",
       "      <td>18.4</td>\n",
       "      <td>60.50</td>\n",
       "    </tr>\n",
       "    <tr>\n",
       "      <th>16</th>\n",
       "      <td>51</td>\n",
       "      <td>V710Tau</td>\n",
       "      <td>13.65</td>\n",
       "      <td>1.55</td>\n",
       "      <td>0.33</td>\n",
       "      <td>1.88</td>\n",
       "      <td>2.82</td>\n",
       "      <td>0.94</td>\n",
       "      <td>17</td>\n",
       "      <td>M1</td>\n",
       "      <td>...</td>\n",
       "      <td>48.0</td>\n",
       "      <td>40.58</td>\n",
       "      <td>tt</td>\n",
       "      <td>4</td>\n",
       "      <td>31</td>\n",
       "      <td>57.75</td>\n",
       "      <td>18</td>\n",
       "      <td>21</td>\n",
       "      <td>36.9</td>\n",
       "      <td>61.00</td>\n",
       "    </tr>\n",
       "    <tr>\n",
       "      <th>17</th>\n",
       "      <td>52</td>\n",
       "      <td>UZTau</td>\n",
       "      <td>12.86</td>\n",
       "      <td>1.19</td>\n",
       "      <td>-0.31</td>\n",
       "      <td>0.88</td>\n",
       "      <td>2.29</td>\n",
       "      <td>1.41</td>\n",
       "      <td>NaN</td>\n",
       "      <td>M1,3</td>\n",
       "      <td>...</td>\n",
       "      <td>82.0</td>\n",
       "      <td>72.88</td>\n",
       "      <td>tt</td>\n",
       "      <td>4</td>\n",
       "      <td>32</td>\n",
       "      <td>42.94</td>\n",
       "      <td>25</td>\n",
       "      <td>52</td>\n",
       "      <td>32.1</td>\n",
       "      <td>62.00</td>\n",
       "    </tr>\n",
       "    <tr>\n",
       "      <th>18</th>\n",
       "      <td>55</td>\n",
       "      <td>GHTau</td>\n",
       "      <td>12.95</td>\n",
       "      <td>1.53</td>\n",
       "      <td>0.58</td>\n",
       "      <td>2.11</td>\n",
       "      <td>2.80</td>\n",
       "      <td>0.69</td>\n",
       "      <td>28</td>\n",
       "      <td>M2,3</td>\n",
       "      <td>...</td>\n",
       "      <td>15.0</td>\n",
       "      <td>4.89</td>\n",
       "      <td>tt</td>\n",
       "      <td>4</td>\n",
       "      <td>33</td>\n",
       "      <td>6.23</td>\n",
       "      <td>24</td>\n",
       "      <td>9</td>\n",
       "      <td>35.4</td>\n",
       "      <td>62.50</td>\n",
       "    </tr>\n",
       "    <tr>\n",
       "      <th>19</th>\n",
       "      <td>62</td>\n",
       "      <td>DMTau</td>\n",
       "      <td>13.99</td>\n",
       "      <td>1.15</td>\n",
       "      <td>-0.15</td>\n",
       "      <td>1.00</td>\n",
       "      <td>2.20</td>\n",
       "      <td>1.20</td>\n",
       "      <td>10</td>\n",
       "      <td>M1:</td>\n",
       "      <td>...</td>\n",
       "      <td>139.0</td>\n",
       "      <td>131.58</td>\n",
       "      <td>tt</td>\n",
       "      <td>4</td>\n",
       "      <td>33</td>\n",
       "      <td>48.70</td>\n",
       "      <td>18</td>\n",
       "      <td>10</td>\n",
       "      <td>10.7</td>\n",
       "      <td>61.00</td>\n",
       "    </tr>\n",
       "    <tr>\n",
       "      <th>20</th>\n",
       "      <td>64</td>\n",
       "      <td>HOTau</td>\n",
       "      <td>14.84</td>\n",
       "      <td>1.14</td>\n",
       "      <td>-0.35</td>\n",
       "      <td>0.79</td>\n",
       "      <td>2.17</td>\n",
       "      <td>1.38</td>\n",
       "      <td>NaN</td>\n",
       "      <td>M0.5</td>\n",
       "      <td>...</td>\n",
       "      <td>115.0</td>\n",
       "      <td>108.30</td>\n",
       "      <td>tt</td>\n",
       "      <td>4</td>\n",
       "      <td>35</td>\n",
       "      <td>20.23</td>\n",
       "      <td>22</td>\n",
       "      <td>32</td>\n",
       "      <td>14.5</td>\n",
       "      <td>60.50</td>\n",
       "    </tr>\n",
       "    <tr>\n",
       "      <th>21</th>\n",
       "      <td>65</td>\n",
       "      <td>DNTau</td>\n",
       "      <td>12.36</td>\n",
       "      <td>1.45</td>\n",
       "      <td>0.74</td>\n",
       "      <td>2.19</td>\n",
       "      <td>2.69</td>\n",
       "      <td>0.50</td>\n",
       "      <td>8</td>\n",
       "      <td>M0</td>\n",
       "      <td>...</td>\n",
       "      <td>12.0</td>\n",
       "      <td>5.96</td>\n",
       "      <td>tt</td>\n",
       "      <td>4</td>\n",
       "      <td>35</td>\n",
       "      <td>27.35</td>\n",
       "      <td>24</td>\n",
       "      <td>14</td>\n",
       "      <td>59.8</td>\n",
       "      <td>60.00</td>\n",
       "    </tr>\n",
       "    <tr>\n",
       "      <th>22</th>\n",
       "      <td>67</td>\n",
       "      <td>DOTau</td>\n",
       "      <td>14.01</td>\n",
       "      <td>1.42</td>\n",
       "      <td>-0.06</td>\n",
       "      <td>1.36</td>\n",
       "      <td>2.67</td>\n",
       "      <td>1.31</td>\n",
       "      <td>NaN</td>\n",
       "      <td>M0:</td>\n",
       "      <td>...</td>\n",
       "      <td>100.0</td>\n",
       "      <td>93.96</td>\n",
       "      <td>tt</td>\n",
       "      <td>4</td>\n",
       "      <td>38</td>\n",
       "      <td>28.57</td>\n",
       "      <td>26</td>\n",
       "      <td>10</td>\n",
       "      <td>50.5</td>\n",
       "      <td>60.00</td>\n",
       "    </tr>\n",
       "    <tr>\n",
       "      <th>23</th>\n",
       "      <td>68</td>\n",
       "      <td>VYTau</td>\n",
       "      <td>13.71</td>\n",
       "      <td>1.51</td>\n",
       "      <td>1.11</td>\n",
       "      <td>2.62</td>\n",
       "      <td>2.78</td>\n",
       "      <td>0.16</td>\n",
       "      <td>10</td>\n",
       "      <td>M0</td>\n",
       "      <td>...</td>\n",
       "      <td>4.0</td>\n",
       "      <td>-2.04</td>\n",
       "      <td>tt</td>\n",
       "      <td>4</td>\n",
       "      <td>39</td>\n",
       "      <td>17.38</td>\n",
       "      <td>22</td>\n",
       "      <td>47</td>\n",
       "      <td>54.1</td>\n",
       "      <td>60.00</td>\n",
       "    </tr>\n",
       "    <tr>\n",
       "      <th>24</th>\n",
       "      <td>70</td>\n",
       "      <td>DPTau</td>\n",
       "      <td>14.22</td>\n",
       "      <td>1.28</td>\n",
       "      <td>-0.20</td>\n",
       "      <td>1.08</td>\n",
       "      <td>2.47</td>\n",
       "      <td>1.39</td>\n",
       "      <td>NaN</td>\n",
       "      <td>M0.5</td>\n",
       "      <td>...</td>\n",
       "      <td>85.0</td>\n",
       "      <td>78.30</td>\n",
       "      <td>tt</td>\n",
       "      <td>4</td>\n",
       "      <td>42</td>\n",
       "      <td>37.66</td>\n",
       "      <td>25</td>\n",
       "      <td>15</td>\n",
       "      <td>38.1</td>\n",
       "      <td>60.50</td>\n",
       "    </tr>\n",
       "    <tr>\n",
       "      <th>25</th>\n",
       "      <td>71</td>\n",
       "      <td>GOTau</td>\n",
       "      <td>14.89</td>\n",
       "      <td>1.46</td>\n",
       "      <td>0.23</td>\n",
       "      <td>1.69</td>\n",
       "      <td>2.71</td>\n",
       "      <td>1.02</td>\n",
       "      <td>21</td>\n",
       "      <td>M0</td>\n",
       "      <td>...</td>\n",
       "      <td>81.0</td>\n",
       "      <td>74.96</td>\n",
       "      <td>tt</td>\n",
       "      <td>4</td>\n",
       "      <td>43</td>\n",
       "      <td>3.05</td>\n",
       "      <td>25</td>\n",
       "      <td>20</td>\n",
       "      <td>19.5</td>\n",
       "      <td>60.00</td>\n",
       "    </tr>\n",
       "    <tr>\n",
       "      <th>26</th>\n",
       "      <td>72</td>\n",
       "      <td>DQTau</td>\n",
       "      <td>13.16</td>\n",
       "      <td>1.39</td>\n",
       "      <td>0.36</td>\n",
       "      <td>1.75</td>\n",
       "      <td>2.65</td>\n",
       "      <td>0.90</td>\n",
       "      <td>NaN</td>\n",
       "      <td>M0,1</td>\n",
       "      <td>...</td>\n",
       "      <td>113.0</td>\n",
       "      <td>106.30</td>\n",
       "      <td>tt</td>\n",
       "      <td>4</td>\n",
       "      <td>46</td>\n",
       "      <td>53.03</td>\n",
       "      <td>17</td>\n",
       "      <td>0</td>\n",
       "      <td>0.4</td>\n",
       "      <td>60.50</td>\n",
       "    </tr>\n",
       "    <tr>\n",
       "      <th>27</th>\n",
       "      <td>97</td>\n",
       "      <td>San1</td>\n",
       "      <td>11.52</td>\n",
       "      <td>1.52</td>\n",
       "      <td>1.12</td>\n",
       "      <td>2.64</td>\n",
       "      <td>2.79</td>\n",
       "      <td>0.15</td>\n",
       "      <td>NaN</td>\n",
       "      <td>M1.5,2</td>\n",
       "      <td>...</td>\n",
       "      <td>3.3</td>\n",
       "      <td>-5.36</td>\n",
       "      <td>NaN</td>\n",
       "      <td>5</td>\n",
       "      <td>32</td>\n",
       "      <td>4.58</td>\n",
       "      <td>-3</td>\n",
       "      <td>5</td>\n",
       "      <td>30.5</td>\n",
       "      <td>61.75</td>\n",
       "    </tr>\n",
       "    <tr>\n",
       "      <th>28</th>\n",
       "      <td>103</td>\n",
       "      <td>VXOri</td>\n",
       "      <td>14.80</td>\n",
       "      <td>1.38</td>\n",
       "      <td>-0.22</td>\n",
       "      <td>1.16</td>\n",
       "      <td>2.64</td>\n",
       "      <td>1.48</td>\n",
       "      <td>NaN</td>\n",
       "      <td>M0</td>\n",
       "      <td>...</td>\n",
       "      <td>35.0</td>\n",
       "      <td>28.96</td>\n",
       "      <td>tt</td>\n",
       "      <td>5</td>\n",
       "      <td>33</td>\n",
       "      <td>34.17</td>\n",
       "      <td>-4</td>\n",
       "      <td>43</td>\n",
       "      <td>45.9</td>\n",
       "      <td>60.00</td>\n",
       "    </tr>\n",
       "    <tr>\n",
       "      <th>29</th>\n",
       "      <td>104</td>\n",
       "      <td>VYOri</td>\n",
       "      <td>15.22</td>\n",
       "      <td>0.79</td>\n",
       "      <td>-1.32</td>\n",
       "      <td>-0.53</td>\n",
       "      <td>1.14</td>\n",
       "      <td>1.67</td>\n",
       "      <td>NaN</td>\n",
       "      <td>M2.5</td>\n",
       "      <td>...</td>\n",
       "      <td>24.0</td>\n",
       "      <td>13.89</td>\n",
       "      <td>tt</td>\n",
       "      <td>5</td>\n",
       "      <td>33</td>\n",
       "      <td>35.91</td>\n",
       "      <td>-5</td>\n",
       "      <td>1</td>\n",
       "      <td>32.8</td>\n",
       "      <td>62.50</td>\n",
       "    </tr>\n",
       "    <tr>\n",
       "      <th>...</th>\n",
       "      <td>...</td>\n",
       "      <td>...</td>\n",
       "      <td>...</td>\n",
       "      <td>...</td>\n",
       "      <td>...</td>\n",
       "      <td>...</td>\n",
       "      <td>...</td>\n",
       "      <td>...</td>\n",
       "      <td>...</td>\n",
       "      <td>...</td>\n",
       "      <td>...</td>\n",
       "      <td>...</td>\n",
       "      <td>...</td>\n",
       "      <td>...</td>\n",
       "      <td>...</td>\n",
       "      <td>...</td>\n",
       "      <td>...</td>\n",
       "      <td>...</td>\n",
       "      <td>...</td>\n",
       "      <td>...</td>\n",
       "      <td>...</td>\n",
       "    </tr>\n",
       "    <tr>\n",
       "      <th>47</th>\n",
       "      <td>567</td>\n",
       "      <td>TWCha</td>\n",
       "      <td>13.08</td>\n",
       "      <td>0.85</td>\n",
       "      <td>-0.16</td>\n",
       "      <td>0.69</td>\n",
       "      <td>1.44</td>\n",
       "      <td>0.75</td>\n",
       "      <td>15</td>\n",
       "      <td>M0:</td>\n",
       "      <td>...</td>\n",
       "      <td>26.0</td>\n",
       "      <td>19.96</td>\n",
       "      <td>tt</td>\n",
       "      <td>10</td>\n",
       "      <td>59</td>\n",
       "      <td>2.56</td>\n",
       "      <td>-77</td>\n",
       "      <td>22</td>\n",
       "      <td>40.6</td>\n",
       "      <td>60.00</td>\n",
       "    </tr>\n",
       "    <tr>\n",
       "      <th>48</th>\n",
       "      <td>572</td>\n",
       "      <td>Sz18</td>\n",
       "      <td>15.35</td>\n",
       "      <td>1.70</td>\n",
       "      <td>0.75</td>\n",
       "      <td>2.45</td>\n",
       "      <td>2.98</td>\n",
       "      <td>0.53</td>\n",
       "      <td>NaN</td>\n",
       "      <td>M2,3</td>\n",
       "      <td>...</td>\n",
       "      <td>12.0</td>\n",
       "      <td>1.89</td>\n",
       "      <td>tt</td>\n",
       "      <td>11</td>\n",
       "      <td>7</td>\n",
       "      <td>20.30</td>\n",
       "      <td>-76</td>\n",
       "      <td>3</td>\n",
       "      <td>2.4</td>\n",
       "      <td>62.50</td>\n",
       "    </tr>\n",
       "    <tr>\n",
       "      <th>49</th>\n",
       "      <td>573</td>\n",
       "      <td>VVCha</td>\n",
       "      <td>14.80</td>\n",
       "      <td>1.26</td>\n",
       "      <td>-0.28</td>\n",
       "      <td>0.98</td>\n",
       "      <td>2.42</td>\n",
       "      <td>1.44</td>\n",
       "      <td>NaN</td>\n",
       "      <td>M1.5</td>\n",
       "      <td>...</td>\n",
       "      <td>88.0</td>\n",
       "      <td>79.77</td>\n",
       "      <td>tt</td>\n",
       "      <td>11</td>\n",
       "      <td>7</td>\n",
       "      <td>29.57</td>\n",
       "      <td>-76</td>\n",
       "      <td>52</td>\n",
       "      <td>10.6</td>\n",
       "      <td>61.50</td>\n",
       "    </tr>\n",
       "    <tr>\n",
       "      <th>50</th>\n",
       "      <td>574</td>\n",
       "      <td>Sz21</td>\n",
       "      <td>15.34</td>\n",
       "      <td>1.71</td>\n",
       "      <td>0.46</td>\n",
       "      <td>2.17</td>\n",
       "      <td>2.99</td>\n",
       "      <td>0.82</td>\n",
       "      <td>NaN</td>\n",
       "      <td>M0.5</td>\n",
       "      <td>...</td>\n",
       "      <td>94.0</td>\n",
       "      <td>87.30</td>\n",
       "      <td>tt</td>\n",
       "      <td>11</td>\n",
       "      <td>7</td>\n",
       "      <td>44.95</td>\n",
       "      <td>-77</td>\n",
       "      <td>39</td>\n",
       "      <td>40.9</td>\n",
       "      <td>60.50</td>\n",
       "    </tr>\n",
       "    <tr>\n",
       "      <th>51</th>\n",
       "      <td>582</td>\n",
       "      <td>GK-1</td>\n",
       "      <td>14.34</td>\n",
       "      <td>0.84</td>\n",
       "      <td>0.55</td>\n",
       "      <td>1.39</td>\n",
       "      <td>1.39</td>\n",
       "      <td>0.00</td>\n",
       "      <td>NaN</td>\n",
       "      <td>M0</td>\n",
       "      <td>...</td>\n",
       "      <td>8.1</td>\n",
       "      <td>2.06</td>\n",
       "      <td>NaN</td>\n",
       "      <td>11</td>\n",
       "      <td>10</td>\n",
       "      <td>6.07</td>\n",
       "      <td>-76</td>\n",
       "      <td>35</td>\n",
       "      <td>43.2</td>\n",
       "      <td>60.00</td>\n",
       "    </tr>\n",
       "    <tr>\n",
       "      <th>52</th>\n",
       "      <td>585</td>\n",
       "      <td>WZCha</td>\n",
       "      <td>15.26</td>\n",
       "      <td>0.81</td>\n",
       "      <td>-0.85</td>\n",
       "      <td>-0.04</td>\n",
       "      <td>1.22</td>\n",
       "      <td>1.26</td>\n",
       "      <td>NaN</td>\n",
       "      <td>M1</td>\n",
       "      <td>...</td>\n",
       "      <td>313.0</td>\n",
       "      <td>305.58</td>\n",
       "      <td>tt</td>\n",
       "      <td>11</td>\n",
       "      <td>10</td>\n",
       "      <td>54.51</td>\n",
       "      <td>-76</td>\n",
       "      <td>34</td>\n",
       "      <td>30.9</td>\n",
       "      <td>61.00</td>\n",
       "    </tr>\n",
       "    <tr>\n",
       "      <th>53</th>\n",
       "      <td>586</td>\n",
       "      <td>XXCha</td>\n",
       "      <td>15.28</td>\n",
       "      <td>1.39</td>\n",
       "      <td>-0.19</td>\n",
       "      <td>1.20</td>\n",
       "      <td>2.65</td>\n",
       "      <td>1.45</td>\n",
       "      <td>NaN</td>\n",
       "      <td>M2</td>\n",
       "      <td>...</td>\n",
       "      <td>87.0</td>\n",
       "      <td>77.88</td>\n",
       "      <td>tt</td>\n",
       "      <td>11</td>\n",
       "      <td>11</td>\n",
       "      <td>40.86</td>\n",
       "      <td>-76</td>\n",
       "      <td>20</td>\n",
       "      <td>12.6</td>\n",
       "      <td>62.00</td>\n",
       "    </tr>\n",
       "    <tr>\n",
       "      <th>54</th>\n",
       "      <td>590</td>\n",
       "      <td>HM32</td>\n",
       "      <td>13.50</td>\n",
       "      <td>1.44</td>\n",
       "      <td>0.52</td>\n",
       "      <td>1.96</td>\n",
       "      <td>2.68</td>\n",
       "      <td>0.72</td>\n",
       "      <td>NaN</td>\n",
       "      <td>M0.5</td>\n",
       "      <td>...</td>\n",
       "      <td>32.0</td>\n",
       "      <td>25.30</td>\n",
       "      <td>tt</td>\n",
       "      <td>11</td>\n",
       "      <td>17</td>\n",
       "      <td>38.15</td>\n",
       "      <td>-77</td>\n",
       "      <td>4</td>\n",
       "      <td>36.8</td>\n",
       "      <td>60.50</td>\n",
       "    </tr>\n",
       "    <tr>\n",
       "      <th>55</th>\n",
       "      <td>249</td>\n",
       "      <td>GWLup</td>\n",
       "      <td>13.83</td>\n",
       "      <td>1.24</td>\n",
       "      <td>-0.11</td>\n",
       "      <td>1.13</td>\n",
       "      <td>2.38</td>\n",
       "      <td>1.25</td>\n",
       "      <td>NaN</td>\n",
       "      <td>M1.5</td>\n",
       "      <td>...</td>\n",
       "      <td>90.0</td>\n",
       "      <td>81.77</td>\n",
       "      <td>tt</td>\n",
       "      <td>15</td>\n",
       "      <td>46</td>\n",
       "      <td>44.68</td>\n",
       "      <td>-34</td>\n",
       "      <td>30</td>\n",
       "      <td>35.4</td>\n",
       "      <td>61.50</td>\n",
       "    </tr>\n",
       "    <tr>\n",
       "      <th>56</th>\n",
       "      <td>599</td>\n",
       "      <td>HMLup</td>\n",
       "      <td>14.84</td>\n",
       "      <td>1.12</td>\n",
       "      <td>-0.60</td>\n",
       "      <td>0.52</td>\n",
       "      <td>2.13</td>\n",
       "      <td>1.61</td>\n",
       "      <td>NaN</td>\n",
       "      <td>M4</td>\n",
       "      <td>...</td>\n",
       "      <td>155.0</td>\n",
       "      <td>141.24</td>\n",
       "      <td>tt</td>\n",
       "      <td>15</td>\n",
       "      <td>47</td>\n",
       "      <td>50.70</td>\n",
       "      <td>-35</td>\n",
       "      <td>28</td>\n",
       "      <td>35.4</td>\n",
       "      <td>64.00</td>\n",
       "    </tr>\n",
       "    <tr>\n",
       "      <th>57</th>\n",
       "      <td>601</td>\n",
       "      <td>HNLup</td>\n",
       "      <td>14.18</td>\n",
       "      <td>1.55</td>\n",
       "      <td>0.22</td>\n",
       "      <td>1.77</td>\n",
       "      <td>2.82</td>\n",
       "      <td>1.05</td>\n",
       "      <td>NaN</td>\n",
       "      <td>M1.5</td>\n",
       "      <td>...</td>\n",
       "      <td>50.0</td>\n",
       "      <td>41.77</td>\n",
       "      <td>tt</td>\n",
       "      <td>15</td>\n",
       "      <td>48</td>\n",
       "      <td>5.22</td>\n",
       "      <td>-35</td>\n",
       "      <td>15</td>\n",
       "      <td>52.6</td>\n",
       "      <td>61.50</td>\n",
       "    </tr>\n",
       "    <tr>\n",
       "      <th>58</th>\n",
       "      <td>603</td>\n",
       "      <td>Sz77</td>\n",
       "      <td>12.50</td>\n",
       "      <td>1.30</td>\n",
       "      <td>0.78</td>\n",
       "      <td>2.08</td>\n",
       "      <td>2.53</td>\n",
       "      <td>0.45</td>\n",
       "      <td>15</td>\n",
       "      <td>M0</td>\n",
       "      <td>...</td>\n",
       "      <td>17.0</td>\n",
       "      <td>10.96</td>\n",
       "      <td>tt</td>\n",
       "      <td>15</td>\n",
       "      <td>51</td>\n",
       "      <td>46.95</td>\n",
       "      <td>-35</td>\n",
       "      <td>56</td>\n",
       "      <td>45.0</td>\n",
       "      <td>60.00</td>\n",
       "    </tr>\n",
       "    <tr>\n",
       "      <th>59</th>\n",
       "      <td>604</td>\n",
       "      <td>Sz81</td>\n",
       "      <td>15.61</td>\n",
       "      <td>1.19</td>\n",
       "      <td>0.74</td>\n",
       "      <td>1.93</td>\n",
       "      <td>2.29</td>\n",
       "      <td>0.36</td>\n",
       "      <td>NaN</td>\n",
       "      <td>M5.5</td>\n",
       "      <td>...</td>\n",
       "      <td>36.0</td>\n",
       "      <td>17.27</td>\n",
       "      <td>tt</td>\n",
       "      <td>15</td>\n",
       "      <td>55</td>\n",
       "      <td>50.24</td>\n",
       "      <td>-38</td>\n",
       "      <td>1</td>\n",
       "      <td>33.1</td>\n",
       "      <td>65.50</td>\n",
       "    </tr>\n",
       "    <tr>\n",
       "      <th>60</th>\n",
       "      <td>605</td>\n",
       "      <td>Sz82</td>\n",
       "      <td>11.89</td>\n",
       "      <td>1.33</td>\n",
       "      <td>1.12</td>\n",
       "      <td>2.45</td>\n",
       "      <td>2.59</td>\n",
       "      <td>0.14</td>\n",
       "      <td>15</td>\n",
       "      <td>M0</td>\n",
       "      <td>...</td>\n",
       "      <td>7.0</td>\n",
       "      <td>0.96</td>\n",
       "      <td>tt</td>\n",
       "      <td>15</td>\n",
       "      <td>56</td>\n",
       "      <td>9.23</td>\n",
       "      <td>-37</td>\n",
       "      <td>56</td>\n",
       "      <td>5.9</td>\n",
       "      <td>60.00</td>\n",
       "    </tr>\n",
       "    <tr>\n",
       "      <th>61</th>\n",
       "      <td>607</td>\n",
       "      <td>Sz128</td>\n",
       "      <td>14.63</td>\n",
       "      <td>1.49</td>\n",
       "      <td>0.69</td>\n",
       "      <td>2.18</td>\n",
       "      <td>2.75</td>\n",
       "      <td>0.57</td>\n",
       "      <td>NaN</td>\n",
       "      <td>M1</td>\n",
       "      <td>...</td>\n",
       "      <td>10.0</td>\n",
       "      <td>2.58</td>\n",
       "      <td>NaN</td>\n",
       "      <td>15</td>\n",
       "      <td>58</td>\n",
       "      <td>7.43</td>\n",
       "      <td>-41</td>\n",
       "      <td>51</td>\n",
       "      <td>47.8</td>\n",
       "      <td>61.00</td>\n",
       "    </tr>\n",
       "    <tr>\n",
       "      <th>62</th>\n",
       "      <td>610</td>\n",
       "      <td>Sz130</td>\n",
       "      <td>14.52</td>\n",
       "      <td>1.22</td>\n",
       "      <td>-0.15</td>\n",
       "      <td>1.07</td>\n",
       "      <td>2.35</td>\n",
       "      <td>1.28</td>\n",
       "      <td>NaN</td>\n",
       "      <td>M1.5</td>\n",
       "      <td>...</td>\n",
       "      <td>53.0</td>\n",
       "      <td>44.77</td>\n",
       "      <td>tt</td>\n",
       "      <td>16</td>\n",
       "      <td>0</td>\n",
       "      <td>31.11</td>\n",
       "      <td>-41</td>\n",
       "      <td>43</td>\n",
       "      <td>39.8</td>\n",
       "      <td>61.50</td>\n",
       "    </tr>\n",
       "    <tr>\n",
       "      <th>63</th>\n",
       "      <td>253</td>\n",
       "      <td>EXLup</td>\n",
       "      <td>13.13</td>\n",
       "      <td>1.20</td>\n",
       "      <td>-0.12</td>\n",
       "      <td>1.08</td>\n",
       "      <td>2.31</td>\n",
       "      <td>1.23</td>\n",
       "      <td>NaN</td>\n",
       "      <td>M0:</td>\n",
       "      <td>...</td>\n",
       "      <td>43.0</td>\n",
       "      <td>36.96</td>\n",
       "      <td>tt</td>\n",
       "      <td>16</td>\n",
       "      <td>3</td>\n",
       "      <td>5.52</td>\n",
       "      <td>-40</td>\n",
       "      <td>18</td>\n",
       "      <td>24.9</td>\n",
       "      <td>60.00</td>\n",
       "    </tr>\n",
       "    <tr>\n",
       "      <th>64</th>\n",
       "      <td>612</td>\n",
       "      <td>HOLup</td>\n",
       "      <td>12.93</td>\n",
       "      <td>0.70</td>\n",
       "      <td>-0.47</td>\n",
       "      <td>0.23</td>\n",
       "      <td>0.93</td>\n",
       "      <td>0.70</td>\n",
       "      <td>NaN</td>\n",
       "      <td>M1</td>\n",
       "      <td>...</td>\n",
       "      <td>220.0</td>\n",
       "      <td>212.58</td>\n",
       "      <td>tt</td>\n",
       "      <td>16</td>\n",
       "      <td>7</td>\n",
       "      <td>0.61</td>\n",
       "      <td>-39</td>\n",
       "      <td>2</td>\n",
       "      <td>19.9</td>\n",
       "      <td>61.00</td>\n",
       "    </tr>\n",
       "    <tr>\n",
       "      <th>65</th>\n",
       "      <td>615</td>\n",
       "      <td>Sz96</td>\n",
       "      <td>14.06</td>\n",
       "      <td>1.48</td>\n",
       "      <td>0.91</td>\n",
       "      <td>2.39</td>\n",
       "      <td>2.74</td>\n",
       "      <td>0.35</td>\n",
       "      <td>NaN</td>\n",
       "      <td>M1.5</td>\n",
       "      <td>...</td>\n",
       "      <td>11.0</td>\n",
       "      <td>2.77</td>\n",
       "      <td>tt</td>\n",
       "      <td>16</td>\n",
       "      <td>8</td>\n",
       "      <td>12.62</td>\n",
       "      <td>-39</td>\n",
       "      <td>8</td>\n",
       "      <td>33.3</td>\n",
       "      <td>61.50</td>\n",
       "    </tr>\n",
       "    <tr>\n",
       "      <th>66</th>\n",
       "      <td>#620</td>\n",
       "      <td>Sz108</td>\n",
       "      <td>13.14</td>\n",
       "      <td>1.48</td>\n",
       "      <td>1.28</td>\n",
       "      <td>2.76</td>\n",
       "      <td>2.74</td>\n",
       "      <td>-0.02</td>\n",
       "      <td>NaN</td>\n",
       "      <td>M0.5</td>\n",
       "      <td>...</td>\n",
       "      <td>0.5</td>\n",
       "      <td>-6.20</td>\n",
       "      <td>NaN</td>\n",
       "      <td>16</td>\n",
       "      <td>8</td>\n",
       "      <td>42.72</td>\n",
       "      <td>-39</td>\n",
       "      <td>6</td>\n",
       "      <td>18.4</td>\n",
       "      <td>60.50</td>\n",
       "    </tr>\n",
       "    <tr>\n",
       "      <th>67</th>\n",
       "      <td>621</td>\n",
       "      <td>Sz110</td>\n",
       "      <td>14.89</td>\n",
       "      <td>1.01</td>\n",
       "      <td>-0.67</td>\n",
       "      <td>0.34</td>\n",
       "      <td>1.93</td>\n",
       "      <td>1.59</td>\n",
       "      <td>NaN</td>\n",
       "      <td>M1:</td>\n",
       "      <td>...</td>\n",
       "      <td>60.0</td>\n",
       "      <td>52.58</td>\n",
       "      <td>tt</td>\n",
       "      <td>16</td>\n",
       "      <td>8</td>\n",
       "      <td>51.55</td>\n",
       "      <td>-39</td>\n",
       "      <td>3</td>\n",
       "      <td>17.8</td>\n",
       "      <td>61.00</td>\n",
       "    </tr>\n",
       "    <tr>\n",
       "      <th>68</th>\n",
       "      <td>624</td>\n",
       "      <td>Sz134</td>\n",
       "      <td>13.88</td>\n",
       "      <td>0.61</td>\n",
       "      <td>-0.52</td>\n",
       "      <td>0.09</td>\n",
       "      <td>0.67</td>\n",
       "      <td>0.58</td>\n",
       "      <td>NaN</td>\n",
       "      <td>M4</td>\n",
       "      <td>...</td>\n",
       "      <td>90.0</td>\n",
       "      <td>76.24</td>\n",
       "      <td>tt</td>\n",
       "      <td>16</td>\n",
       "      <td>9</td>\n",
       "      <td>12.21</td>\n",
       "      <td>-41</td>\n",
       "      <td>40</td>\n",
       "      <td>24.6</td>\n",
       "      <td>64.00</td>\n",
       "    </tr>\n",
       "    <tr>\n",
       "      <th>69</th>\n",
       "      <td>625</td>\n",
       "      <td>Sz116</td>\n",
       "      <td>13.80</td>\n",
       "      <td>1.46</td>\n",
       "      <td>1.08</td>\n",
       "      <td>2.54</td>\n",
       "      <td>2.71</td>\n",
       "      <td>0.17</td>\n",
       "      <td>NaN</td>\n",
       "      <td>M1</td>\n",
       "      <td>...</td>\n",
       "      <td>3.9</td>\n",
       "      <td>-3.52</td>\n",
       "      <td>NaN</td>\n",
       "      <td>16</td>\n",
       "      <td>9</td>\n",
       "      <td>42.61</td>\n",
       "      <td>-39</td>\n",
       "      <td>19</td>\n",
       "      <td>41.5</td>\n",
       "      <td>61.00</td>\n",
       "    </tr>\n",
       "    <tr>\n",
       "      <th>70</th>\n",
       "      <td>628</td>\n",
       "      <td>Sz122</td>\n",
       "      <td>14.37</td>\n",
       "      <td>1.47</td>\n",
       "      <td>1.08</td>\n",
       "      <td>2.55</td>\n",
       "      <td>2.72</td>\n",
       "      <td>0.17</td>\n",
       "      <td>NaN</td>\n",
       "      <td>M3</td>\n",
       "      <td>...</td>\n",
       "      <td>6.1</td>\n",
       "      <td>-5.10</td>\n",
       "      <td>tt</td>\n",
       "      <td>16</td>\n",
       "      <td>10</td>\n",
       "      <td>16.44</td>\n",
       "      <td>-39</td>\n",
       "      <td>8</td>\n",
       "      <td>5.4</td>\n",
       "      <td>63.00</td>\n",
       "    </tr>\n",
       "    <tr>\n",
       "      <th>71</th>\n",
       "      <td>629</td>\n",
       "      <td>Sz123</td>\n",
       "      <td>15.08</td>\n",
       "      <td>1.15</td>\n",
       "      <td>-0.89</td>\n",
       "      <td>0.26</td>\n",
       "      <td>2.20</td>\n",
       "      <td>1.94</td>\n",
       "      <td>NaN</td>\n",
       "      <td>M2</td>\n",
       "      <td>...</td>\n",
       "      <td>251.0</td>\n",
       "      <td>241.88</td>\n",
       "      <td>tt</td>\n",
       "      <td>16</td>\n",
       "      <td>10</td>\n",
       "      <td>51.48</td>\n",
       "      <td>-38</td>\n",
       "      <td>53</td>\n",
       "      <td>14.1</td>\n",
       "      <td>62.00</td>\n",
       "    </tr>\n",
       "    <tr>\n",
       "      <th>72</th>\n",
       "      <td>#631</td>\n",
       "      <td>Sz124</td>\n",
       "      <td>13.83</td>\n",
       "      <td>1.48</td>\n",
       "      <td>1.27</td>\n",
       "      <td>2.75</td>\n",
       "      <td>2.74</td>\n",
       "      <td>-0.01</td>\n",
       "      <td>NaN</td>\n",
       "      <td>M0</td>\n",
       "      <td>...</td>\n",
       "      <td>1.6</td>\n",
       "      <td>-4.44</td>\n",
       "      <td>NaN</td>\n",
       "      <td>16</td>\n",
       "      <td>11</td>\n",
       "      <td>53.35</td>\n",
       "      <td>-39</td>\n",
       "      <td>2</td>\n",
       "      <td>16.1</td>\n",
       "      <td>60.00</td>\n",
       "    </tr>\n",
       "    <tr>\n",
       "      <th>73</th>\n",
       "      <td>263</td>\n",
       "      <td>SR12</td>\n",
       "      <td>13.27</td>\n",
       "      <td>1.55</td>\n",
       "      <td>1.02</td>\n",
       "      <td>2.57</td>\n",
       "      <td>2.82</td>\n",
       "      <td>0.25</td>\n",
       "      <td>21</td>\n",
       "      <td>M1,2</td>\n",
       "      <td>...</td>\n",
       "      <td>4.0</td>\n",
       "      <td>-4.23</td>\n",
       "      <td>NaN</td>\n",
       "      <td>16</td>\n",
       "      <td>27</td>\n",
       "      <td>19.55</td>\n",
       "      <td>-24</td>\n",
       "      <td>41</td>\n",
       "      <td>40.2</td>\n",
       "      <td>61.50</td>\n",
       "    </tr>\n",
       "    <tr>\n",
       "      <th>74</th>\n",
       "      <td>265</td>\n",
       "      <td>SR10</td>\n",
       "      <td>14.01</td>\n",
       "      <td>0.98</td>\n",
       "      <td>-0.39</td>\n",
       "      <td>0.59</td>\n",
       "      <td>1.84</td>\n",
       "      <td>1.25</td>\n",
       "      <td>NaN</td>\n",
       "      <td>M1.5</td>\n",
       "      <td>...</td>\n",
       "      <td>42.0</td>\n",
       "      <td>33.77</td>\n",
       "      <td>tt</td>\n",
       "      <td>16</td>\n",
       "      <td>27</td>\n",
       "      <td>55.63</td>\n",
       "      <td>-24</td>\n",
       "      <td>26</td>\n",
       "      <td>16.4</td>\n",
       "      <td>61.50</td>\n",
       "    </tr>\n",
       "    <tr>\n",
       "      <th>75</th>\n",
       "      <td>266</td>\n",
       "      <td>V853Pph</td>\n",
       "      <td>13.52</td>\n",
       "      <td>1.12</td>\n",
       "      <td>-0.37</td>\n",
       "      <td>0.75</td>\n",
       "      <td>2.13</td>\n",
       "      <td>1.38</td>\n",
       "      <td>NaN</td>\n",
       "      <td>M1.5</td>\n",
       "      <td>...</td>\n",
       "      <td>41.0</td>\n",
       "      <td>32.77</td>\n",
       "      <td>tt</td>\n",
       "      <td>16</td>\n",
       "      <td>28</td>\n",
       "      <td>45.33</td>\n",
       "      <td>-24</td>\n",
       "      <td>28</td>\n",
       "      <td>16.9</td>\n",
       "      <td>61.50</td>\n",
       "    </tr>\n",
       "    <tr>\n",
       "      <th>76</th>\n",
       "      <td>647</td>\n",
       "      <td>DoAr51</td>\n",
       "      <td>13.59</td>\n",
       "      <td>1.90</td>\n",
       "      <td>1.43</td>\n",
       "      <td>3.33</td>\n",
       "      <td>3.15</td>\n",
       "      <td>-0.18</td>\n",
       "      <td>8</td>\n",
       "      <td>M0:</td>\n",
       "      <td>...</td>\n",
       "      <td>7.0</td>\n",
       "      <td>0.96</td>\n",
       "      <td>NaN</td>\n",
       "      <td>16</td>\n",
       "      <td>32</td>\n",
       "      <td>11.87</td>\n",
       "      <td>-24</td>\n",
       "      <td>40</td>\n",
       "      <td>17.2</td>\n",
       "      <td>60.00</td>\n",
       "    </tr>\n",
       "  </tbody>\n",
       "</table>\n",
       "<p>77 rows × 21 columns</p>\n",
       "</div>"
      ],
      "text/plain": [
       "    #HBC     name   Vmag   B-V   U-B   U-V  (U-V)KH  Exc(U)  vsini      Sp  \\\n",
       "0      8  LkH@262  14.56  0.84 -0.40  0.44     1.39    0.95    NaN      M0   \n",
       "1     23    FMTau  14.22  0.78 -0.40  0.38     1.13    0.75    NaN      M0   \n",
       "2     24    FNTau  14.95  1.69  0.84  2.53     2.98    0.45    NaN      M5   \n",
       "3     26    FPTau  13.90  1.53  1.03  2.56     2.80    0.24    NaN      M4   \n",
       "4     27    CXTau  13.72  1.55  0.85  2.40     2.82    0.42     20    M2.5   \n",
       "5    630    DDTau  14.11  0.92 -0.46  0.46     1.62    1.16    NaN      M1   \n",
       "6     31    CZTau  15.33  1.58  1.16  2.74     2.86    0.12    NaN    M1.5   \n",
       "7     33    DETau  13.00  1.38 -0.16  1.22     2.64    1.42     10     M2:   \n",
       "8     36    DFTau  11.49  0.89 -0.42  0.47     1.52    1.05     22    M0,1   \n",
       "9     37    DGTau  12.01  0.93 -0.30  0.63     0.65    0.02    NaN       M   \n",
       "10    38    DHTau  13.92  1.40  0.01  1.41     2.65    1.24    NaN      M1   \n",
       "11    41    IQTau  13.30  1.63  0.67  2.30     2.92    0.62     12    M0.5   \n",
       "12    44    FXTau  13.90  1.64  1.08  2.72     2.93    0.21     10      M1   \n",
       "13    46    ZZTau  14.34  1.52  0.48  2.00     2.79    0.79    NaN     M3:   \n",
       "14    47  V927Tau  14.63  1.52  0.95  2.47     2.79    0.32     19    M5.5   \n",
       "15    48    HKTau  15.75  1.73  0.84  2.57     3.00    0.43     22    M0.5   \n",
       "16    51  V710Tau  13.65  1.55  0.33  1.88     2.82    0.94     17      M1   \n",
       "17    52    UZTau  12.86  1.19 -0.31  0.88     2.29    1.41    NaN    M1,3   \n",
       "18    55    GHTau  12.95  1.53  0.58  2.11     2.80    0.69     28    M2,3   \n",
       "19    62    DMTau  13.99  1.15 -0.15  1.00     2.20    1.20     10     M1:   \n",
       "20    64    HOTau  14.84  1.14 -0.35  0.79     2.17    1.38    NaN    M0.5   \n",
       "21    65    DNTau  12.36  1.45  0.74  2.19     2.69    0.50      8      M0   \n",
       "22    67    DOTau  14.01  1.42 -0.06  1.36     2.67    1.31    NaN     M0:   \n",
       "23    68    VYTau  13.71  1.51  1.11  2.62     2.78    0.16     10      M0   \n",
       "24    70    DPTau  14.22  1.28 -0.20  1.08     2.47    1.39    NaN    M0.5   \n",
       "25    71    GOTau  14.89  1.46  0.23  1.69     2.71    1.02     21      M0   \n",
       "26    72    DQTau  13.16  1.39  0.36  1.75     2.65    0.90    NaN    M0,1   \n",
       "27    97     San1  11.52  1.52  1.12  2.64     2.79    0.15    NaN  M1.5,2   \n",
       "28   103    VXOri  14.80  1.38 -0.22  1.16     2.64    1.48    NaN      M0   \n",
       "29   104    VYOri  15.22  0.79 -1.32 -0.53     1.14    1.67    NaN    M2.5   \n",
       "..   ...      ...    ...   ...   ...   ...      ...     ...    ...     ...   \n",
       "47   567    TWCha  13.08  0.85 -0.16  0.69     1.44    0.75     15     M0:   \n",
       "48   572     Sz18  15.35  1.70  0.75  2.45     2.98    0.53    NaN    M2,3   \n",
       "49   573    VVCha  14.80  1.26 -0.28  0.98     2.42    1.44    NaN    M1.5   \n",
       "50   574     Sz21  15.34  1.71  0.46  2.17     2.99    0.82    NaN    M0.5   \n",
       "51   582     GK-1  14.34  0.84  0.55  1.39     1.39    0.00    NaN      M0   \n",
       "52   585    WZCha  15.26  0.81 -0.85 -0.04     1.22    1.26    NaN      M1   \n",
       "53   586    XXCha  15.28  1.39 -0.19  1.20     2.65    1.45    NaN      M2   \n",
       "54   590     HM32  13.50  1.44  0.52  1.96     2.68    0.72    NaN    M0.5   \n",
       "55   249    GWLup  13.83  1.24 -0.11  1.13     2.38    1.25    NaN    M1.5   \n",
       "56   599    HMLup  14.84  1.12 -0.60  0.52     2.13    1.61    NaN      M4   \n",
       "57   601    HNLup  14.18  1.55  0.22  1.77     2.82    1.05    NaN    M1.5   \n",
       "58   603     Sz77  12.50  1.30  0.78  2.08     2.53    0.45     15      M0   \n",
       "59   604     Sz81  15.61  1.19  0.74  1.93     2.29    0.36    NaN    M5.5   \n",
       "60   605     Sz82  11.89  1.33  1.12  2.45     2.59    0.14     15      M0   \n",
       "61   607    Sz128  14.63  1.49  0.69  2.18     2.75    0.57    NaN      M1   \n",
       "62   610    Sz130  14.52  1.22 -0.15  1.07     2.35    1.28    NaN    M1.5   \n",
       "63   253    EXLup  13.13  1.20 -0.12  1.08     2.31    1.23    NaN     M0:   \n",
       "64   612    HOLup  12.93  0.70 -0.47  0.23     0.93    0.70    NaN      M1   \n",
       "65   615     Sz96  14.06  1.48  0.91  2.39     2.74    0.35    NaN    M1.5   \n",
       "66  #620    Sz108  13.14  1.48  1.28  2.76     2.74   -0.02    NaN    M0.5   \n",
       "67   621    Sz110  14.89  1.01 -0.67  0.34     1.93    1.59    NaN     M1:   \n",
       "68   624    Sz134  13.88  0.61 -0.52  0.09     0.67    0.58    NaN      M4   \n",
       "69   625    Sz116  13.80  1.46  1.08  2.54     2.71    0.17    NaN      M1   \n",
       "70   628    Sz122  14.37  1.47  1.08  2.55     2.72    0.17    NaN      M3   \n",
       "71   629    Sz123  15.08  1.15 -0.89  0.26     2.20    1.94    NaN      M2   \n",
       "72  #631    Sz124  13.83  1.48  1.27  2.75     2.74   -0.01    NaN      M0   \n",
       "73   263     SR12  13.27  1.55  1.02  2.57     2.82    0.25     21    M1,2   \n",
       "74   265     SR10  14.01  0.98 -0.39  0.59     1.84    1.25    NaN    M1.5   \n",
       "75   266  V853Pph  13.52  1.12 -0.37  0.75     2.13    1.38    NaN    M1.5   \n",
       "76   647   DoAr51  13.59  1.90  1.43  3.33     3.15   -0.18      8     M0:   \n",
       "\n",
       "       ...          EW   ExcEW  type _RA.icrs  _DE.icrs  Unnamed: 16  \\\n",
       "0      ...        31.0   24.96    tt        2        56         7.94   \n",
       "1      ...        71.0   64.96    tt        4        14        13.46   \n",
       "2      ...        25.0    8.10    tt        4        14        14.59   \n",
       "3      ...        38.0   24.24    tt        4        14        47.28   \n",
       "4      ...        20.0    9.89    tt        4        14        47.84   \n",
       "5      ...       182.0  174.58    tt        4        18        31.13   \n",
       "6      ...         4.0   -4.23    tt        4        18        31.59   \n",
       "7      ...        54.0   44.88    tt        4        21        55.61   \n",
       "8      ...        60.0   53.30    tt        4        27         2.77   \n",
       "9      ...       113.0  106.96    tt        4        27         4.67   \n",
       "10     ...        53.0   45.58    tt        4        29        41.50   \n",
       "11     ...         7.8    1.10    tt        4        29        51.50   \n",
       "12     ...        10.0    2.58    tt        4        30        29.59   \n",
       "13     ...        15.0    3.80    tt        4        30        51.36   \n",
       "14     ...         4.7  -14.03    tt        4        31        23.77   \n",
       "15     ...        29.0   22.30    tt        4        31        50.55   \n",
       "16     ...        48.0   40.58    tt        4        31        57.75   \n",
       "17     ...        82.0   72.88    tt        4        32        42.94   \n",
       "18     ...        15.0    4.89    tt        4        33         6.23   \n",
       "19     ...       139.0  131.58    tt        4        33        48.70   \n",
       "20     ...       115.0  108.30    tt        4        35        20.23   \n",
       "21     ...        12.0    5.96    tt        4        35        27.35   \n",
       "22     ...       100.0   93.96    tt        4        38        28.57   \n",
       "23     ...         4.0   -2.04    tt        4        39        17.38   \n",
       "24     ...        85.0   78.30    tt        4        42        37.66   \n",
       "25     ...        81.0   74.96    tt        4        43         3.05   \n",
       "26     ...       113.0  106.30    tt        4        46        53.03   \n",
       "27     ...         3.3   -5.36   NaN        5        32         4.58   \n",
       "28     ...        35.0   28.96    tt        5        33        34.17   \n",
       "29     ...        24.0   13.89    tt        5        33        35.91   \n",
       "..     ...         ...     ...   ...      ...       ...          ...   \n",
       "47     ...        26.0   19.96    tt       10        59         2.56   \n",
       "48     ...        12.0    1.89    tt       11         7        20.30   \n",
       "49     ...        88.0   79.77    tt       11         7        29.57   \n",
       "50     ...        94.0   87.30    tt       11         7        44.95   \n",
       "51     ...         8.1    2.06   NaN       11        10         6.07   \n",
       "52     ...       313.0  305.58    tt       11        10        54.51   \n",
       "53     ...        87.0   77.88    tt       11        11        40.86   \n",
       "54     ...        32.0   25.30    tt       11        17        38.15   \n",
       "55     ...        90.0   81.77    tt       15        46        44.68   \n",
       "56     ...       155.0  141.24    tt       15        47        50.70   \n",
       "57     ...        50.0   41.77    tt       15        48         5.22   \n",
       "58     ...        17.0   10.96    tt       15        51        46.95   \n",
       "59     ...        36.0   17.27    tt       15        55        50.24   \n",
       "60     ...         7.0    0.96    tt       15        56         9.23   \n",
       "61     ...        10.0    2.58   NaN       15        58         7.43   \n",
       "62     ...        53.0   44.77    tt       16         0        31.11   \n",
       "63     ...        43.0   36.96    tt       16         3         5.52   \n",
       "64     ...       220.0  212.58    tt       16         7         0.61   \n",
       "65     ...        11.0    2.77    tt       16         8        12.62   \n",
       "66     ...         0.5   -6.20   NaN       16         8        42.72   \n",
       "67     ...        60.0   52.58    tt       16         8        51.55   \n",
       "68     ...        90.0   76.24    tt       16         9        12.21   \n",
       "69     ...         3.9   -3.52   NaN       16         9        42.61   \n",
       "70     ...         6.1   -5.10    tt       16        10        16.44   \n",
       "71     ...       251.0  241.88    tt       16        10        51.48   \n",
       "72     ...         1.6   -4.44   NaN       16        11        53.35   \n",
       "73     ...         4.0   -4.23   NaN       16        27        19.55   \n",
       "74     ...        42.0   33.77    tt       16        27        55.63   \n",
       "75     ...        41.0   32.77    tt       16        28        45.33   \n",
       "76     ...         7.0    0.96   NaN       16        32        11.87   \n",
       "\n",
       "    Unnamed: 17  SpT(Li)  Unnamed: 19  Unnamed: 20  \n",
       "0            20        3         24.2        60.00  \n",
       "1            28       12         51.1        60.00  \n",
       "2            28       27         59.1        65.00  \n",
       "3            26       46         27.5        64.00  \n",
       "4            26       48         12.2        62.50  \n",
       "5            28       16         30.1        61.00  \n",
       "6            28       16         59.4        61.50  \n",
       "7            27       55          7.2        62.00  \n",
       "8            25       42         23.2        60.50  \n",
       "9            26        6         16.9        60.00  \n",
       "10           26       32         59.8        61.00  \n",
       "11           26        6         46.5        60.50  \n",
       "12           24       26         45.8        61.00  \n",
       "13           24       42         23.1        63.00  \n",
       "14           24       10         53.7        65.50  \n",
       "15           24       24         18.4        60.50  \n",
       "16           18       21         36.9        61.00  \n",
       "17           25       52         32.1        62.00  \n",
       "18           24        9         35.4        62.50  \n",
       "19           18       10         10.7        61.00  \n",
       "20           22       32         14.5        60.50  \n",
       "21           24       14         59.8        60.00  \n",
       "22           26       10         50.5        60.00  \n",
       "23           22       47         54.1        60.00  \n",
       "24           25       15         38.1        60.50  \n",
       "25           25       20         19.5        60.00  \n",
       "26           17        0          0.4        60.50  \n",
       "27           -3        5         30.5        61.75  \n",
       "28           -4       43         45.9        60.00  \n",
       "29           -5        1         32.8        62.50  \n",
       "..          ...      ...          ...          ...  \n",
       "47          -77       22         40.6        60.00  \n",
       "48          -76        3          2.4        62.50  \n",
       "49          -76       52         10.6        61.50  \n",
       "50          -77       39         40.9        60.50  \n",
       "51          -76       35         43.2        60.00  \n",
       "52          -76       34         30.9        61.00  \n",
       "53          -76       20         12.6        62.00  \n",
       "54          -77        4         36.8        60.50  \n",
       "55          -34       30         35.4        61.50  \n",
       "56          -35       28         35.4        64.00  \n",
       "57          -35       15         52.6        61.50  \n",
       "58          -35       56         45.0        60.00  \n",
       "59          -38        1         33.1        65.50  \n",
       "60          -37       56          5.9        60.00  \n",
       "61          -41       51         47.8        61.00  \n",
       "62          -41       43         39.8        61.50  \n",
       "63          -40       18         24.9        60.00  \n",
       "64          -39        2         19.9        61.00  \n",
       "65          -39        8         33.3        61.50  \n",
       "66          -39        6         18.4        60.50  \n",
       "67          -39        3         17.8        61.00  \n",
       "68          -41       40         24.6        64.00  \n",
       "69          -39       19         41.5        61.00  \n",
       "70          -39        8          5.4        63.00  \n",
       "71          -38       53         14.1        62.00  \n",
       "72          -39        2         16.1        60.00  \n",
       "73          -24       41         40.2        61.50  \n",
       "74          -24       26         16.4        61.50  \n",
       "75          -24       28         16.9        61.50  \n",
       "76          -24       40         17.2        60.00  \n",
       "\n",
       "[77 rows x 21 columns]"
      ]
     },
     "execution_count": 48,
     "metadata": {},
     "output_type": "execute_result"
    }
   ],
   "source": [
    "df"
   ]
  },
  {
   "cell_type": "code",
   "execution_count": 187,
   "metadata": {
    "collapsed": false,
    "scrolled": true
   },
   "outputs": [
    {
     "data": {
      "text/plain": [
       "<seaborn.axisgrid.FacetGrid at 0x117fe5e90>"
      ]
     },
     "execution_count": 187,
     "metadata": {},
     "output_type": "execute_result"
    },
    {
     "data": {
      "image/png": "[encoded data removed]",
      "text/plain": [
       "<matplotlib.figure.Figure at 0x1184ebf10>"
      ]
     },
     "metadata": {},
     "output_type": "display_data"
    }
   ],
   "source": [
    "import seaborn as sns\n",
    "st=60.5\n",
    "data={'t':df[df['Unnamed: 20']==st]['Exc(U)'], 'T':df[df['Unnamed: 20']==st].ExcEW}\n",
    "frame = pd.DataFrame(data, columns=['t', 'T'])\n",
    "sns.lmplot('T', 't', frame,ci=99,size=7,aspect=1.33)"
   ]
  },
  {
   "cell_type": "code",
   "execution_count": 176,
   "metadata": {
    "collapsed": true
   },
   "outputs": [],
   "source": [
    "df.sort('ExcEW',inplace=True)"
   ]
  },
  {
   "cell_type": "code",
   "execution_count": 177,
   "metadata": {
    "collapsed": false
   },
   "outputs": [],
   "source": [
    "A=df[df['Unnamed: 20']==st].ExcEW.as_matrix()\n",
    "B=df[df['Unnamed: 20']==st]['Exc(U)'].as_matrix()"
   ]
  },
  {
   "cell_type": "code",
   "execution_count": 178,
   "metadata": {
    "collapsed": false
   },
   "outputs": [
    {
     "data": {
      "text/plain": [
       "<matplotlib.collections.PathCollection at 0x1180156d0>"
      ]
     },
     "execution_count": 178,
     "metadata": {},
     "output_type": "execute_result"
    },
    {
     "data": {
      "image/png": "[encoded data removed]",
      "text/plain": [
       "<matplotlib.figure.Figure at 0x1178b8490>"
      ]
     },
     "metadata": {},
     "output_type": "display_data"
    }
   ],
   "source": [
    "plt.scatter(A,B)"
   ]
  },
  {
   "cell_type": "code",
   "execution_count": 180,
   "metadata": {
    "collapsed": false
   },
   "outputs": [],
   "source": [
    "from scipy import stats\n",
    "#equivalent to Excel TINV(0.05,999)\n",
    "tcrit=stats.t.ppf(1-0.025, len(A)-2)"
   ]
  },
  {
   "cell_type": "code",
   "execution_count": null,
   "metadata": {
    "collapsed": true
   },
   "outputs": [],
   "source": [
    "AA=np.vstack((A,np.ones(len(A)))).T\n",
    "\n"
   ]
  },
  {
   "cell_type": "code",
   "execution_count": 181,
   "metadata": {
    "collapsed": false
   },
   "outputs": [],
   "source": [
    "tcrit=stats.t.ppf(1-0.025, len(A)-2)\n",
    "AA=np.vstack((A,np.ones(len(A)))).T\n",
    "model=sm.OLS(B,AA)\n",
    "fit=model.fit()\n",
    "slope, intercept=fit.params\n",
    "sterr=np.sqrt(fit.mse_resid)\n",
    "A0=0\n",
    "tcrit*sterr*np.sqrt(1./len(A)+(A0-np.mean(A))**2/np.sum((A0-np.mean(A))**2))\n"
   ]
  },
  {
   "cell_type": "code",
   "execution_count": 182,
   "metadata": {
    "collapsed": false
   },
   "outputs": [],
   "source": [
    "import statsmodels.api as sm\n",
    "model=sm.OLS(B,AA)\n",
    "fit=model.fit()"
   ]
  },
  {
   "cell_type": "code",
   "execution_count": 183,
   "metadata": {
    "collapsed": false
   },
   "outputs": [],
   "source": [
    "slope, intercept=fit.params"
   ]
  },
  {
   "cell_type": "code",
   "execution_count": 184,
   "metadata": {
    "collapsed": true
   },
   "outputs": [],
   "source": [
    "sterr=np.sqrt(fit.mse_resid)"
   ]
  },
  {
   "cell_type": "code",
   "execution_count": 185,
   "metadata": {
    "collapsed": false
   },
   "outputs": [
    {
     "data": {
      "text/plain": [
       "0.67441934993190644"
      ]
     },
     "execution_count": 185,
     "metadata": {},
     "output_type": "execute_result"
    }
   ],
   "source": [
    "A0=0\n",
    "tcrit*sterr*np.sqrt(1./len(A)+(A0-np.mean(A))**2/np.sum((A0-np.mean(A))**2))"
   ]
  },
  {
   "cell_type": "code",
   "execution_count": 186,
   "metadata": {
    "collapsed": false
   },
   "outputs": [
    {
     "data": {
      "text/plain": [
       "[<matplotlib.lines.Line2D at 0x11854ef10>]"
      ]
     },
     "execution_count": 186,
     "metadata": {},
     "output_type": "execute_result"
    },
    {
     "data": {
      "image/png": "[encoded data removed]",
      "text/plain": [
       "<matplotlib.figure.Figure at 0x1170ec110>"
      ]
     },
     "metadata": {},
     "output_type": "display_data"
    }
   ],
   "source": [
    "# prediction interval\n",
    "plt.plot(A,A*slope+intercept,c='k')\n",
    "plt.scatter(A,B)\n",
    "plt.plot(A,slope*A+intercept-tcrit*sterr*np.sqrt(1+1./len(A)+(A-np.mean(A))**2/np.sum((A-np.mean(A))**2)))\n",
    "plt.plot(A,slope*A+intercept+tcrit*sterr*np.sqrt(1+1./len(A)+(A-np.mean(A))**2/np.sum((A-np.mean(A))**2)))"
   ]
  },
  {
   "cell_type": "code",
   "execution_count": 70,
   "metadata": {
    "collapsed": true
   },
   "outputs": [],
   "source": [
    "from scipy import stats\n",
    "import statsmodels.api as sm\n",
    "\n",
    "\n"
   ]
  },
  {
   "cell_type": "code",
   "execution_count": 40,
   "metadata": {
    "collapsed": true
   },
   "outputs": [],
   "source": [
    "df2=pd.read_csv(\"datosestrellas/barrado.csv\")"
   ]
  },
  {
   "cell_type": "code",
   "execution_count": 37,
   "metadata": {
    "collapsed": true
   },
   "outputs": [],
   "source": [
    "df1=pd.read_csv(\"datosestrellas/mandk.csv\")"
   ]
  },
  {
   "cell_type": "code",
   "execution_count": 38,
   "metadata": {
    "collapsed": false
   },
   "outputs": [
    {
     "data": {
      "text/html": [
       "<div>\n",
       "<table border=\"1\" class=\"dataframe\">\n",
       "  <thead>\n",
       "    <tr style=\"text-align: right;\">\n",
       "      <th></th>\n",
       "      <th>#HBC</th>\n",
       "      <th>name</th>\n",
       "      <th>Vmag</th>\n",
       "      <th>B-V</th>\n",
       "      <th>U-B</th>\n",
       "      <th>U-V</th>\n",
       "      <th>(U-V)KH</th>\n",
       "      <th>ExcU</th>\n",
       "      <th>vsini</th>\n",
       "      <th>Sp</th>\n",
       "      <th>...</th>\n",
       "      <th>EWHaBa</th>\n",
       "      <th>ExcEW</th>\n",
       "      <th>ExcExp</th>\n",
       "      <th>type</th>\n",
       "      <th>Unnamed: 16</th>\n",
       "      <th>Unnamed: 17</th>\n",
       "      <th>Unnamed: 18</th>\n",
       "      <th>Unnamed: 19</th>\n",
       "      <th>Unnamed: 20</th>\n",
       "      <th>Unnamed: 21</th>\n",
       "    </tr>\n",
       "  </thead>\n",
       "  <tbody>\n",
       "    <tr>\n",
       "      <th>0</th>\n",
       "      <td>326</td>\n",
       "      <td>MacCsH15</td>\n",
       "      <td>13.85</td>\n",
       "      <td>1.77</td>\n",
       "      <td>0.92</td>\n",
       "      <td>2.69</td>\n",
       "      <td>3.03</td>\n",
       "      <td>0.34</td>\n",
       "      <td>NaN</td>\n",
       "      <td>K1</td>\n",
       "      <td>...</td>\n",
       "      <td>0.95</td>\n",
       "      <td>14.05</td>\n",
       "      <td>11.1</td>\n",
       "      <td>tt</td>\n",
       "      <td>0</td>\n",
       "      <td>12</td>\n",
       "      <td>30.38</td>\n",
       "      <td>65</td>\n",
       "      <td>33</td>\n",
       "      <td>5.5</td>\n",
       "    </tr>\n",
       "    <tr>\n",
       "      <th>1</th>\n",
       "      <td>4</td>\n",
       "      <td>MacCH10</td>\n",
       "      <td>14.72</td>\n",
       "      <td>1.51</td>\n",
       "      <td>0.52</td>\n",
       "      <td>2.03</td>\n",
       "      <td>2.78</td>\n",
       "      <td>0.75</td>\n",
       "      <td>NaN</td>\n",
       "      <td>K4</td>\n",
       "      <td>...</td>\n",
       "      <td>1.76</td>\n",
       "      <td>22.24</td>\n",
       "      <td>19.6</td>\n",
       "      <td>tt</td>\n",
       "      <td>0</td>\n",
       "      <td>12</td>\n",
       "      <td>54.89</td>\n",
       "      <td>65</td>\n",
       "      <td>34</td>\n",
       "      <td>9.9</td>\n",
       "    </tr>\n",
       "    <tr>\n",
       "      <th>2</th>\n",
       "      <td>5</td>\n",
       "      <td>MacCH9</td>\n",
       "      <td>14.96</td>\n",
       "      <td>1.28</td>\n",
       "      <td>0.72</td>\n",
       "      <td>2.00</td>\n",
       "      <td>2.45</td>\n",
       "      <td>0.45</td>\n",
       "      <td>NaN</td>\n",
       "      <td>K4</td>\n",
       "      <td>...</td>\n",
       "      <td>1.76</td>\n",
       "      <td>46.24</td>\n",
       "      <td>43.6</td>\n",
       "      <td>tt</td>\n",
       "      <td>0</td>\n",
       "      <td>13</td>\n",
       "      <td>29.21</td>\n",
       "      <td>65</td>\n",
       "      <td>36</td>\n",
       "      <td>0.2</td>\n",
       "    </tr>\n",
       "    <tr>\n",
       "      <th>3</th>\n",
       "      <td>10</td>\n",
       "      <td>LkH@264</td>\n",
       "      <td>12.46</td>\n",
       "      <td>0.83</td>\n",
       "      <td>-0.46</td>\n",
       "      <td>0.37</td>\n",
       "      <td>1.33</td>\n",
       "      <td>0.96</td>\n",
       "      <td>NaN</td>\n",
       "      <td>K5</td>\n",
       "      <td>...</td>\n",
       "      <td>2.16</td>\n",
       "      <td>82.84</td>\n",
       "      <td>79.9</td>\n",
       "      <td>tt</td>\n",
       "      <td>2</td>\n",
       "      <td>56</td>\n",
       "      <td>37.49</td>\n",
       "      <td>20</td>\n",
       "      <td>5</td>\n",
       "      <td>37.1</td>\n",
       "    </tr>\n",
       "    <tr>\n",
       "      <th>4</th>\n",
       "      <td>11</td>\n",
       "      <td>LkH@325</td>\n",
       "      <td>13.43</td>\n",
       "      <td>1.28</td>\n",
       "      <td>0.92</td>\n",
       "      <td>2.20</td>\n",
       "      <td>2.45</td>\n",
       "      <td>0.25</td>\n",
       "      <td>NaN</td>\n",
       "      <td>K7</td>\n",
       "      <td>...</td>\n",
       "      <td>3.26</td>\n",
       "      <td>4.44</td>\n",
       "      <td>1.1</td>\n",
       "      <td>tt</td>\n",
       "      <td>3</td>\n",
       "      <td>28</td>\n",
       "      <td>52.13</td>\n",
       "      <td>30</td>\n",
       "      <td>45</td>\n",
       "      <td>4.6</td>\n",
       "    </tr>\n",
       "  </tbody>\n",
       "</table>\n",
       "<p>5 rows × 22 columns</p>\n",
       "</div>"
      ],
      "text/plain": [
       "   #HBC      name   Vmag   B-V   U-B   U-V  (U-V)KH  ExcU  vsini  Sp  \\\n",
       "0   326  MacCsH15  13.85  1.77  0.92  2.69     3.03  0.34    NaN  K1   \n",
       "1     4   MacCH10  14.72  1.51  0.52  2.03     2.78  0.75    NaN  K4   \n",
       "2     5    MacCH9  14.96  1.28  0.72  2.00     2.45  0.45    NaN  K4   \n",
       "3    10   LkH@264  12.46  0.83 -0.46  0.37     1.33  0.96    NaN  K5   \n",
       "4    11   LkH@325  13.43  1.28  0.92  2.20     2.45  0.25    NaN  K7   \n",
       "\n",
       "      ...       EWHaBa    ExcEW  ExcExp  type  Unnamed: 16 Unnamed: 17  \\\n",
       "0     ...           0.95  14.05    11.1    tt            0          12   \n",
       "1     ...           1.76  22.24    19.6    tt            0          12   \n",
       "2     ...           1.76  46.24    43.6    tt            0          13   \n",
       "3     ...           2.16  82.84    79.9    tt            2          56   \n",
       "4     ...           3.26   4.44     1.1    tt            3          28   \n",
       "\n",
       "   Unnamed: 18  Unnamed: 19  Unnamed: 20  Unnamed: 21  \n",
       "0        30.38           65           33          5.5  \n",
       "1        54.89           65           34          9.9  \n",
       "2        29.21           65           36          0.2  \n",
       "3        37.49           20            5         37.1  \n",
       "4        52.13           30           45          4.6  \n",
       "\n",
       "[5 rows x 22 columns]"
      ]
     },
     "execution_count": 38,
     "metadata": {},
     "output_type": "execute_result"
    }
   ],
   "source": [
    "df1.head()"
   ]
  },
  {
   "cell_type": "code",
   "execution_count": 66,
   "metadata": {
    "collapsed": false
   },
   "outputs": [
    {
     "data": {
      "text/plain": [
       "array([-0.53, -0.32, -0.08, -0.04,  0.04,  0.09,  0.11,  0.16,  0.23,\n",
       "        0.23,  0.25,  0.26,  0.28,  0.34,  0.34,  0.36,  0.37,  0.38,\n",
       "        0.43,  0.43,  0.44,  0.45,  0.46,  0.46,  0.47,  0.48,  0.49,\n",
       "        0.49,  0.5 ,  0.51,  0.51,  0.52,  0.53,  0.57,  0.57,  0.59,\n",
       "        0.6 ,  0.61,  0.62,  0.62,  0.62,  0.63,  0.63,  0.64,  0.69,\n",
       "        0.69,  0.75,  0.78,  0.78,  0.79,  0.79,  0.81,  0.87,  0.88,\n",
       "        0.91,  0.93,  0.94,  0.94,  0.97,  0.98,  0.99,  1.  ,  1.03,\n",
       "        1.06,  1.07,  1.08,  1.08,  1.08,  1.08,  1.09,  1.1 ,  1.11,\n",
       "        1.13,  1.16,  1.16,  1.17,  1.19,  1.19,  1.2 ,  1.22,  1.23,\n",
       "        1.24,  1.25,  1.31,  1.31,  1.36,  1.38,  1.41,  1.41,  1.43,\n",
       "        1.44,  1.46,  1.47,  1.48,  1.51,  1.51,  1.52,  1.52,  1.53,\n",
       "        1.54,  1.54,  1.57,  1.57,  1.58,  1.59,  1.59,  1.6 ,  1.6 ,\n",
       "        1.61,  1.63,  1.63,  1.64,  1.64,  1.65,  1.65,  1.66,  1.66,\n",
       "        1.68,  1.69,  1.7 ,  1.72,  1.72,  1.72,  1.73,  1.75,  1.76,\n",
       "        1.76,  1.77,  1.78,  1.78,  1.79,  1.81,  1.86,  1.86,  1.88,\n",
       "        1.88,  1.9 ,  1.91,  1.92,  1.93,  1.93,  1.93,  1.96,  1.97,\n",
       "        1.98,  2.  ,  2.  ,  2.  ,  2.  ,  2.  ,  2.01,  2.02,  2.02,\n",
       "        2.03,  2.04,  2.04,  2.07,  2.08,  2.1 ,  2.11,  2.11,  2.15,\n",
       "        2.16,  2.16,  2.17,  2.17,  2.18,  2.19,  2.2 ,  2.21,  2.23,\n",
       "        2.24,  2.24,  2.25,  2.25,  2.28,  2.29,  2.3 ,  2.3 ,  2.31,\n",
       "        2.31,  2.31,  2.32,  2.33,  2.35,  2.36,  2.39,  2.4 ,  2.45,\n",
       "        2.45,  2.46,  2.47,  2.5 ,  2.5 ,  2.51,  2.52,  2.52,  2.53,\n",
       "        2.53,  2.54,  2.54,  2.55,  2.55,  2.56,  2.57,  2.57,  2.57,\n",
       "        2.62,  2.65,  2.67,  2.69,  2.71,  2.72,  2.72,  2.74,  2.75,\n",
       "        2.87,  2.88,  2.88,  2.88,  2.95,  3.1 ,  3.1 ,  3.74])"
      ]
     },
     "execution_count": 66,
     "metadata": {},
     "output_type": "execute_result"
    }
   ],
   "source": [
    "np.sort(df1['U-V'])"
   ]
  },
  {
   "cell_type": "code",
   "execution_count": 86,
   "metadata": {
    "collapsed": false
   },
   "outputs": [
    {
     "data": {
      "text/plain": [
       "<matplotlib.collections.PathCollection at 0x107d2e210>"
      ]
     },
     "execution_count": 86,
     "metadata": {},
     "output_type": "execute_result"
    },
    {
     "data": {
      "image/png": "[encoded data removed]",
      "text/plain": [
       "<matplotlib.figure.Figure at 0x1060e8b50>"
      ]
     },
     "metadata": {},
     "output_type": "display_data"
    }
   ],
   "source": [
    "plt.scatter(df1.SpT,df1.ExcU)"
   ]
  },
  {
   "cell_type": "code",
   "execution_count": 39,
   "metadata": {
    "collapsed": false
   },
   "outputs": [
    {
     "data": {
      "text/plain": [
       "<matplotlib.collections.PathCollection at 0x105b730d0>"
      ]
     },
     "execution_count": 39,
     "metadata": {},
     "output_type": "execute_result"
    },
    {
     "data": {
      "image/png": "[encoded data removed]",
      "text/plain": [
       "<matplotlib.figure.Figure at 0x105983850>"
      ]
     },
     "metadata": {},
     "output_type": "display_data"
    }
   ],
   "source": [
    "plt.scatter(df1.ExcU,df1.ExcExp)"
   ]
  },
  {
   "cell_type": "code",
   "execution_count": 45,
   "metadata": {
    "collapsed": false
   },
   "outputs": [
    {
     "data": {
      "text/plain": [
       "(array([ 14.,  28.,  15.,  37.,  43.,   6.,  30.,  33.,  10.,   8.]),\n",
       " array([ 50.  ,  51.55,  53.1 ,  54.65,  56.2 ,  57.75,  59.3 ,  60.85,\n",
       "         62.4 ,  63.95,  65.5 ]),\n",
       " <a list of 10 Patch objects>)"
      ]
     },
     "execution_count": 45,
     "metadata": {},
     "output_type": "execute_result"
    },
    {
     "data": {
      "image/png": "[encoded data removed]",
      "text/plain": [
       "<matplotlib.figure.Figure at 0x105bbfa50>"
      ]
     },
     "metadata": {},
     "output_type": "display_data"
    }
   ],
   "source": [
    "plt.hist(df1.SpT)"
   ]
  },
  {
   "cell_type": "code",
   "execution_count": 138,
   "metadata": {
    "collapsed": false
   },
   "outputs": [
    {
     "data": {
      "text/plain": [
       "array([ 50.,  51.,  52.,  53.,  54.,  55.,  56.,  57.,  58.,  60.,  61.,\n",
       "        62.,  63.,  64.,  65.,  66.])"
      ]
     },
     "execution_count": 138,
     "metadata": {},
     "output_type": "execute_result"
    }
   ],
   "source": [
    "listspt=np.unique(np.around(df1.SpT,0))\n",
    "listspt"
   ]
  },
  {
   "cell_type": "code",
   "execution_count": 54,
   "metadata": {
    "collapsed": false
   },
   "outputs": [],
   "source": [
    "filter=np.around(df1.SpT,0)==listspt[0]"
   ]
  },
  {
   "cell_type": "code",
   "execution_count": 119,
   "metadata": {
    "collapsed": false
   },
   "outputs": [
    {
     "data": {
      "text/plain": [
       "0.35889894354067398"
      ]
     },
     "execution_count": 119,
     "metadata": {},
     "output_type": "execute_result"
    }
   ],
   "source": [
    "szsp=np.sqrt(len(listspt))\n",
    "np.mod(szsp,4)"
   ]
  },
  {
   "cell_type": "code",
   "execution_count": 153,
   "metadata": {
    "collapsed": false
   },
   "outputs": [
    {
     "name": "stdout",
     "output_type": "stream",
     "text": [
      "(2.119623596296583, 0.90837447186286036)\n",
      "(1.489889538561056, 0.96016333182342528)\n",
      "(2.0188768028051851, 0.991165562083962)\n",
      "(1.9243117094560394, 0.99999743560493215)\n",
      "(1.811196962810272, 0.99995489229575163)\n",
      "(1.9154956134400347, 0.99999999948503693)\n",
      "(1.032850593825305, 0.99994062825491536)\n",
      "(8.4163321774139277, 0.99999999541633111)\n",
      "(2.6482485921782857, 0.75402148630345955)\n",
      "(5.5855842849671031, 0.99999934700947268)\n",
      "(2.9448345942008234, 0.99143499934132184)\n",
      "(5.0074529427896133, 0.9999943833502476)\n",
      "(2.0437887808496562, 0.7277050227364249)\n",
      "(1.4522203932041189, 0.83506997027765839)\n",
      "(2.7391003653507345e-32, nan)\n",
      "(7.2757353454628887e-32, 0.99999999999999978)\n"
     ]
    },
    {
     "data": {
      "image/png": "[encoded data removed]",
      "text/plain": [
       "<matplotlib.figure.Figure at 0x10833b250>"
      ]
     },
     "metadata": {},
     "output_type": "display_data"
    }
   ],
   "source": [
    "NUM_COLORS = len(listspt)\n",
    "\n",
    "cm = plt.get_cmap('gist_rainbow')\n",
    "fig = plt.figure(figsize=(20,20))\n",
    "#ax.set_color_cycle([cm(1.*i/NUM_COLORS) for i in range(NUM_COLORS)])\n",
    "predbands=1.\n",
    "for i in range(NUM_COLORS):\n",
    "    ax = fig.add_subplot(4,4,i)\n",
    "    filter=np.around(df1.SpT,0)==listspt[i]\n",
    "    B=df1.ExcU[filter]\n",
    "    A=df1.ExcExp[filter]\n",
    "    A,B=(list(A) for A in zip(*sorted(zip(A, B))))\n",
    "    A,B=np.asarray(A),np.asarray(B)\n",
    "    tcrit=stats.t.ppf(1-0.025, len(A)-2)\n",
    "    AA=np.vstack((A,np.ones(len(A)))).T\n",
    "    model=sm.OLS(B,AA)\n",
    "    fit=model.fit()\n",
    "    slope, intercept=fit.params\n",
    "    sterr=np.sqrt(fit.mse_resid)\n",
    "    A0=0\n",
    "    tcrit*sterr*np.sqrt(1./len(A)+(A0-np.mean(A))**2/np.sum((A0-np.mean(A))**2))\n",
    "    ax.plot(A,B,'o')\n",
    "    ax.plot(A,A*slope+intercept,c='k')\n",
    "    ax.plot(A,slope*A+intercept-tcrit*sterr*np.sqrt(1*predbands+1./len(A)+(A-np.mean(A))**2/np.sum((A-np.mean(A))**2)))\n",
    "    ax.plot(A,slope*A+intercept+tcrit*sterr*np.sqrt(1*predbands+1./len(A)+(A-np.mean(A))**2/np.sum((A-np.mean(A))**2)))\n",
    "    print stats.chisquare(f_obs=B, f_exp=slope*A+intercept)\n",
    "    ax.set_title(\"SpT = %.1f\"%listspt[i])\n",
    "    ax.set_xlabel(\"EwExp\")\n",
    "    ax.set_ylabel(\"ExcU\")\n",
    "plt.show()"
   ]
  },
  {
   "cell_type": "code",
   "execution_count": 258,
   "metadata": {
    "collapsed": false,
    "scrolled": false
   },
   "outputs": [
    {
     "name": "stdout",
     "output_type": "stream",
     "text": [
      "(3.686151779756254, 0.9940947841103146)\n",
      "(4.2257998450555734, 0.99999985127118785)\n",
      "(4.2358368799447135, 0.99999999999943812)\n",
      "(11.881001617589956, 0.99999999976076093)\n",
      "(8.389059484901157, 0.99999897793447379)\n",
      "(9.2795587865732418, 0.99999994898446776)\n",
      "(6.9675748913144693, 0.99999596278308522)\n",
      "(1.4620433520508231, 0.91740799927920813)\n"
     ]
    },
    {
     "data": {
      "image/png": "[encoded data removed]",
      "text/plain": [
       "<matplotlib.figure.Figure at 0x10d3fbe50>"
      ]
     },
     "metadata": {},
     "output_type": "display_data"
    }
   ],
   "source": [
    "NUM_COLORS = len(listspt)\n",
    "\n",
    "cm = plt.get_cmap('gist_rainbow')\n",
    "fig = plt.figure(figsize=(20,20))\n",
    "#ax.set_color_cycle([cm(1.*i/NUM_COLORS) for i in range(NUM_COLORS)])\n",
    "predbands=1.\n",
    "k=1\n",
    "bandls=[]\n",
    "icls=[]\n",
    "sptls=[]\n",
    "for i in range(NUM_COLORS-1):\n",
    "    if np.mod(listspt[i],2)==0 :\n",
    "        ax = fig.add_subplot(3,3,k)\n",
    "        k=k+1\n",
    "        try:\n",
    "            filter=(np.around(df1.SpT,0)==listspt[i])|((np.around(df1.SpT,0)==listspt[i+1]))\n",
    "        except:\n",
    "            continue\n",
    "        B=df1.ExcU[filter]\n",
    "        A=df1.ExcExp[filter]\n",
    "        A,B=(list(A) for A in zip(*sorted(zip(A, B))))\n",
    "        A,B=np.asarray(A),np.asarray(B)\n",
    "        tcrit=stats.t.ppf(1-0.025, len(A)-2)\n",
    "        AA=np.vstack((A,np.ones(len(A)))).T\n",
    "        model=sm.OLS(B,AA)\n",
    "        fit=model.fit()\n",
    "        slope, intercept=fit.params\n",
    "        sterr=np.sqrt(fit.mse_resid)\n",
    "        A0=0\n",
    "        tcrit*sterr*np.sqrt(1./len(A)+(A0-np.mean(A))**2/np.sum((A0-np.mean(A))**2))\n",
    "        ax.plot(A,B,'o')\n",
    "        ax.plot(A,A*slope+intercept,c='k')\n",
    "        band=tcrit*sterr*np.sqrt(1*predbands+1./len(A)+(A-np.mean(A))**2/np.sum((A-np.mean(A))**2))\n",
    "        band0=tcrit*sterr*np.sqrt(1*predbands+1./len(A)+(0-np.mean(A))**2/np.sum((A-np.mean(A))**2))\n",
    "        bandls.append(band0)\n",
    "        plt.scatter(0,intercept+band0,c='c')\n",
    "        icls.append(intercept)\n",
    "        sptls.append(listspt[i])\n",
    "        ax.plot(A,slope*A+intercept-band)\n",
    "        ax.plot(A,slope*A+intercept+band)\n",
    "        print stats.chisquare(f_obs=B, f_exp=slope*A+intercept)\n",
    "        ax.set_title(\"SpT = %i-%i\"%(listspt[i],listspt[i]+1))\n",
    "        ax.set_xlabel(\"EwExp\")\n",
    "        ax.set_ylabel(\"ExcU\")\n",
    "plt.show()\n",
    "bandls=np.asarray(bandls)\n",
    "icls=np.asarray(icls)\n",
    "sptls=np.asarray(sptls)"
   ]
  },
  {
   "cell_type": "code",
   "execution_count": 302,
   "metadata": {
    "collapsed": false,
    "scrolled": false
   },
   "outputs": [
    {
     "data": {
      "text/plain": [
       "<function matplotlib.pyplot.show>"
      ]
     },
     "execution_count": 302,
     "metadata": {},
     "output_type": "execute_result"
    },
    {
     "data": {
      "image/png": "[encoded data removed]",
      "text/plain": [
       "<matplotlib.figure.Figure at 0x107f0f310>"
      ]
     },
     "metadata": {},
     "output_type": "display_data"
    }
   ],
   "source": [
    "fig=plt.figure(figsize=(9,6))\n",
    "#plt.scatter(df1.SpT,df1.ExcU)\n",
    "NUM=3\n",
    "ax = fig.add_subplot(111)\n",
    "ax.set_color_cycle([cm(1.*i/NUM) for i in range(NUM)])\n",
    "for i in np.unique(df1.type)[1:]:\n",
    "    filter=df1.type==i\n",
    "    ax.plot(df1.SpT[filter],df1.ExcU[filter],'o',label=i)\n",
    "filter2=df1.type.isnull()\n",
    "ax.plot(df1.SpT[filter2],df1.ExcU[filter2],'o',label=\"Unknown\")\n",
    "plt.errorbar(sptls+.5,icls,bandls,c='r',capsize=0,elinewidth=40,alpha=0.3,linewidth=4)\n",
    "plt.xlabel(\"SpT\")\n",
    "plt.ylabel(\"ExcU\")\n",
    "plt.legend(loc=2)\n",
    "plt.xlim(49,66)\n",
    "plt.ylim(-0.7)\n",
    "plt.show"
   ]
  },
  {
   "cell_type": "code",
   "execution_count": 262,
   "metadata": {
    "collapsed": false
   },
   "outputs": [
    {
     "data": {
      "text/plain": [
       "array(['nan', 'tt', 'wt'], \n",
       "      dtype='|S3')"
      ]
     },
     "execution_count": 262,
     "metadata": {},
     "output_type": "execute_result"
    }
   ],
   "source": [
    "np.unique(df1.type)"
   ]
  },
  {
   "cell_type": "code",
   "execution_count": 285,
   "metadata": {
    "collapsed": false
   },
   "outputs": [
    {
     "data": {
      "text/plain": [
       "0"
      ]
     },
     "execution_count": 285,
     "metadata": {},
     "output_type": "execute_result"
    }
   ],
   "source": [
    "(df1.type==np.unique(df1.type)[0]).sum()"
   ]
  },
  {
   "cell_type": "code",
   "execution_count": 289,
   "metadata": {
    "collapsed": false
   },
   "outputs": [
    {
     "data": {
      "text/plain": [
       "2"
      ]
     },
     "execution_count": 289,
     "metadata": {},
     "output_type": "execute_result"
    }
   ],
   "source": [
    "df1.type.isnull().sum()"
   ]
  },
  {
   "cell_type": "code",
   "execution_count": null,
   "metadata": {
    "collapsed": true
   },
   "outputs": [],
   "source": []
  },
  {
   "cell_type": "code",
   "execution_count": null,
   "metadata": {
    "collapsed": true
   },
   "outputs": [],
   "source": [
    "#Nombre estrellas\t(U - B)\t(B - V)\t  V    (V - R)\t(R - I)\t   RAC\t         DEC\tError(U - B)\tError(B - V)\tError(V)\tError(V - R)\tError(R - I)\tError(U)\tError(U - V)\t"
   ]
  },
  {
   "cell_type": "code",
   "execution_count": 11,
   "metadata": {
    "collapsed": false
   },
   "outputs": [],
   "source": [
    "errlcc=np.loadtxt(\"datosestrellas/FotometriaLCC_oscar.txt\", skiprows=1)"
   ]
  },
  {
   "cell_type": "code",
   "execution_count": 12,
   "metadata": {
    "collapsed": false
   },
   "outputs": [],
   "source": [
    "errucl=np.loadtxt(\"datosestrellas/FotometriaUCL_oscar.txt\", skiprows=1)"
   ]
  },
  {
   "cell_type": "code",
   "execution_count": 14,
   "metadata": {
    "collapsed": false
   },
   "outputs": [
    {
     "data": {
      "text/plain": [
       "(25, 15)"
      ]
     },
     "execution_count": 14,
     "metadata": {},
     "output_type": "execute_result"
    }
   ],
   "source": [
    "errucl.shape"
   ]
  },
  {
   "cell_type": "code",
   "execution_count": 15,
   "metadata": {
    "collapsed": false
   },
   "outputs": [
    {
     "data": {
      "text/plain": [
       "(29, 15)"
      ]
     },
     "execution_count": 15,
     "metadata": {},
     "output_type": "execute_result"
    }
   ],
   "source": [
    "errlcc.shape"
   ]
  },
  {
   "cell_type": "code",
   "execution_count": 19,
   "metadata": {
    "collapsed": false
   },
   "outputs": [
    {
     "data": {
      "text/plain": [
       "array([ 0.068,  0.031,  0.098,  0.037,  0.095,  0.098,  0.098,  0.033,\n",
       "        0.099,  0.097,  0.1  ,  0.11 ,  0.038,  0.083,  0.042,  0.039,\n",
       "        0.085,  0.038,  0.04 ,  0.068,  0.048,  0.04 ,  0.079,  0.079,\n",
       "        0.037,  0.045,  0.038,  0.038,  0.094])"
      ]
     },
     "execution_count": 19,
     "metadata": {},
     "output_type": "execute_result"
    }
   ],
   "source": [
    "errlcc[:,8] # err U-B"
   ]
  },
  {
   "cell_type": "code",
   "execution_count": 20,
   "metadata": {
    "collapsed": false
   },
   "outputs": [
    {
     "data": {
      "text/plain": [
       "array([ 0.024,  0.015,  0.02 ,  0.013,  0.02 ,  0.023,  0.022,  0.019,\n",
       "        0.023,  0.021,  0.021,  0.026,  0.013,  0.023,  0.014,  0.013,\n",
       "        0.025,  0.013,  0.013,  0.024,  0.017,  0.014,  0.021,  0.021,\n",
       "        0.013,  0.021,  0.013,  0.013,  0.02 ])"
      ]
     },
     "execution_count": 20,
     "metadata": {},
     "output_type": "execute_result"
    }
   ],
   "source": [
    "errlcc[:,9] # err B-V"
   ]
  },
  {
   "cell_type": "code",
   "execution_count": 21,
   "metadata": {
    "collapsed": false
   },
   "outputs": [
    {
     "data": {
      "text/plain": [
       "array([ 0.029,  0.06 ,  0.048,  0.038,  0.048,  0.05 ,  0.049,  0.061,\n",
       "        0.05 ,  0.049,  0.049,  0.051,  0.039,  0.039,  0.042,  0.04 ,\n",
       "        0.04 ,  0.039,  0.04 ,  0.03 ,  0.041,  0.04 ,  0.038,  0.038,\n",
       "        0.038,  0.013,  0.039,  0.039,  0.048])"
      ]
     },
     "execution_count": 21,
     "metadata": {},
     "output_type": "execute_result"
    }
   ],
   "source": [
    "errlcc[:,10] # err V"
   ]
  },
  {
   "cell_type": "code",
   "execution_count": 41,
   "metadata": {
    "collapsed": false
   },
   "outputs": [
    {
     "data": {
      "text/plain": [
       "array([ 0.07211103,  0.03443835,  0.10002   ,  0.03921734,  0.09708244,\n",
       "        0.1006628 ,  0.10043904,  0.03807887,  0.10163661,  0.09924717,\n",
       "        0.10218121,  0.11303097,  0.04016217,  0.08612781,  0.04427189,\n",
       "        0.04110961,  0.08860023,  0.04016217,  0.04205948,  0.07211103,\n",
       "        0.05092151,  0.04237924,  0.0817435 ,  0.0817435 ,  0.03921734,\n",
       "        0.04965884,  0.04016217,  0.04016217,  0.09610411])"
      ]
     },
     "execution_count": 41,
     "metadata": {},
     "output_type": "execute_result"
    }
   ],
   "source": [
    "np.sqrt(errlcc[:,8]**2+errlcc[:,9]**2)"
   ]
  },
  {
   "cell_type": "code",
   "execution_count": 25,
   "metadata": {
    "collapsed": false
   },
   "outputs": [
    {
     "data": {
      "text/plain": [
       "array([ 0.07772387,  0.06918092,  0.11094143,  0.05460769,  0.10830051,\n",
       "        0.11239662,  0.1117542 ,  0.07190967,  0.11326959,  0.11068424,\n",
       "        0.11332255,  0.12400403,  0.05598214,  0.09454628,  0.06102458,\n",
       "        0.05735852,  0.09721111,  0.05598214,  0.05804309,  0.0781025 ,\n",
       "        0.06537584,  0.05827521,  0.09014433,  0.09014433,  0.05460769,\n",
       "        0.05133225,  0.05598214,  0.05598214,  0.10742439])"
      ]
     },
     "execution_count": 25,
     "metadata": {},
     "output_type": "execute_result"
    }
   ],
   "source": [
    "errlcc[:,13]"
   ]
  },
  {
   "cell_type": "code",
   "execution_count": 43,
   "metadata": {
    "collapsed": true
   },
   "outputs": [],
   "source": [
    "Ulcc=errlcc[:,1]+errlcc[:,2]+errlcc[:,3]\n",
    "UVlcc=errlcc[:,1]+errlcc[:,2]"
   ]
  },
  {
   "cell_type": "code",
   "execution_count": 27,
   "metadata": {
    "collapsed": false
   },
   "outputs": [
    {
     "data": {
      "text/plain": [
       "<matplotlib.collections.PathCollection at 0x7f76f8cb4ad0>"
      ]
     },
     "execution_count": 27,
     "metadata": {},
     "output_type": "execute_result"
    },
    {
     "data": {
      "image/png": "[encoded data removed]",
      "text/plain": [
       "<matplotlib.figure.Figure at 0x7f76f8e10390>"
      ]
     },
     "metadata": {},
     "output_type": "display_data"
    }
   ],
   "source": [
    "plt.scatter(Ulcc,errlcc[:,13])"
   ]
  },
  {
   "cell_type": "code",
   "execution_count": 45,
   "metadata": {
    "collapsed": true
   },
   "outputs": [],
   "source": [
    "Uucl=errucl[:,1]+errucl[:,2]+errucl[:,3]\n",
    "UVucl=errucl[:,1]+errucl[:,2]"
   ]
  },
  {
   "cell_type": "code",
   "execution_count": 30,
   "metadata": {
    "collapsed": false
   },
   "outputs": [
    {
     "data": {
      "text/plain": [
       "<matplotlib.collections.PathCollection at 0x7f76f8afc350>"
      ]
     },
     "execution_count": 30,
     "metadata": {},
     "output_type": "execute_result"
    },
    {
     "data": {
      "image/png": "[encoded data removed]",
      "text/plain": [
       "<matplotlib.figure.Figure at 0x7f76f8bfba10>"
      ]
     },
     "metadata": {},
     "output_type": "display_data"
    }
   ],
   "source": [
    "plt.scatter(Uucl,errucl[:,13])\n",
    "plt.scatter(Ulcc,errlcc[:,13],c='r')"
   ]
  },
  {
   "cell_type": "code",
   "execution_count": 46,
   "metadata": {
    "collapsed": false
   },
   "outputs": [
    {
     "data": {
      "text/plain": [
       "<matplotlib.collections.PathCollection at 0x7f76f853a490>"
      ]
     },
     "execution_count": 46,
     "metadata": {},
     "output_type": "execute_result"
    },
    {
     "data": {
      "image/png": "[encoded data removed]",
      "text/plain": [
       "<matplotlib.figure.Figure at 0x7f76f8651fd0>"
      ]
     },
     "metadata": {},
     "output_type": "display_data"
    }
   ],
   "source": [
    "plt.scatter(UVucl,errucl[:,14])\n",
    "plt.scatter(UVlcc,errlcc[:,14],c='r')"
   ]
  },
  {
   "cell_type": "code",
   "execution_count": 31,
   "metadata": {
    "collapsed": true
   },
   "outputs": [],
   "source": [
    "errosc=np.hstack((errucl[:,13],errlcc[:,13]))"
   ]
  },
  {
   "cell_type": "code",
   "execution_count": 47,
   "metadata": {
    "collapsed": true
   },
   "outputs": [],
   "source": [
    "erroscuv=np.hstack((errucl[:,14],errlcc[:,14]))"
   ]
  },
  {
   "cell_type": "code",
   "execution_count": 50,
   "metadata": {
    "collapsed": true
   },
   "outputs": [],
   "source": [
    "uvosc=np.hstack((UVucl,UVlcc))"
   ]
  },
  {
   "cell_type": "code",
   "execution_count": 51,
   "metadata": {
    "collapsed": false
   },
   "outputs": [
    {
     "data": {
      "text/plain": [
       "<matplotlib.collections.PathCollection at 0x7f76f82782d0>"
      ]
     },
     "execution_count": 51,
     "metadata": {},
     "output_type": "execute_result"
    },
    {
     "data": {
      "image/png": "[encoded data removed]",
      "text/plain": [
       "<matplotlib.figure.Figure at 0x7f76f834ca10>"
      ]
     },
     "metadata": {},
     "output_type": "display_data"
    }
   ],
   "source": [
    "plt.scatter(uvosc,erroscuv)"
   ]
  },
  {
   "cell_type": "code",
   "execution_count": 36,
   "metadata": {
    "collapsed": false
   },
   "outputs": [
    {
     "data": {
      "text/plain": [
       "(array([ 18.,  11.,  10.,   6.,   9.]),\n",
       " array([ 0.05133225,  0.06615843,  0.08098461,  0.09581079,  0.11063696,\n",
       "         0.12546314]),\n",
       " <a list of 5 Patch objects>)"
      ]
     },
     "execution_count": 36,
     "metadata": {},
     "output_type": "execute_result"
    },
    {
     "data": {
      "image/png": "[encoded data removed]",
      "text/plain": [
       "<matplotlib.figure.Figure at 0x7f76f8831ed0>"
      ]
     },
     "metadata": {},
     "output_type": "display_data"
    }
   ],
   "source": [
    "plt.hist(errosc,bins=5)"
   ]
  },
  {
   "cell_type": "code",
   "execution_count": 49,
   "metadata": {
    "collapsed": false
   },
   "outputs": [
    {
     "data": {
      "text/plain": [
       "(array([ 18.,   3.,   4.,   3.,   4.,   6.,   4.,   9.,   0.,   3.]),\n",
       " array([ 0.03443835,  0.04295152,  0.05146469,  0.05997786,  0.06849104,\n",
       "         0.07700421,  0.08551738,  0.09403055,  0.10254372,  0.11105689,\n",
       "         0.11957006]),\n",
       " <a list of 10 Patch objects>)"
      ]
     },
     "execution_count": 49,
     "metadata": {},
     "output_type": "execute_result"
    },
    {
     "data": {
      "image/png": "[encoded data removed]",
      "text/plain": [
       "<matplotlib.figure.Figure at 0x7f76f8464510>"
      ]
     },
     "metadata": {},
     "output_type": "display_data"
    }
   ],
   "source": [
    "plt.hist(erroscuv,bins=10)"
   ]
  },
  {
   "cell_type": "code",
   "execution_count": 170,
   "metadata": {
    "collapsed": false
   },
   "outputs": [
    {
     "data": {
      "text/plain": [
       "<seaborn.axisgrid.FacetGrid at 0x7f76d89ae750>"
      ]
     },
     "execution_count": 170,
     "metadata": {},
     "output_type": "execute_result"
    },
    {
     "data": {
      "image/png": "[encoded data removed]",
      "text/plain": [
       "<matplotlib.figure.Figure at 0x7f76d8856dd0>"
      ]
     },
     "metadata": {},
     "output_type": "display_data"
    }
   ],
   "source": [
    "dfer=pd.DataFrame({'x' : x, 'y': y})\n",
    "sns.lmplot(x=\"x\", y=\"y\", data=dfer)"
   ]
  },
  {
   "cell_type": "code",
   "execution_count": 171,
   "metadata": {
    "collapsed": false
   },
   "outputs": [
    {
     "data": {
      "image/png": "[encoded data removed]",
      "text/plain": [
       "<matplotlib.figure.Figure at 0x7f76d89ae5d0>"
      ]
     },
     "metadata": {},
     "output_type": "display_data"
    }
   ],
   "source": [
    "range=np.array([(.6,2),(0.02,0.14)])\n",
    "a=plt.hist2d(x,y,bins=10,range=range)"
   ]
  },
  {
   "cell_type": "code",
   "execution_count": 175,
   "metadata": {
    "collapsed": false
   },
   "outputs": [
    {
     "data": {
      "image/png": "[encoded data removed]",
      "text/plain": [
       "<matplotlib.figure.Figure at 0x7f76d87d2990>"
      ]
     },
     "metadata": {},
     "output_type": "display_data"
    }
   ],
   "source": [
    "ax=sns.jointplot(x=\"x\", y=\"y\", data=dfer,kind=\"kde\",stat_func=None,xlim=(0.3,2),ylim=(0,0.14))"
   ]
  },
  {
   "cell_type": "code",
   "execution_count": 178,
   "metadata": {
    "collapsed": false
   },
   "outputs": [
    {
     "data": {
      "text/plain": [
       "(0.5, 2)"
      ]
     },
     "execution_count": 178,
     "metadata": {},
     "output_type": "execute_result"
    },
    {
     "data": {
      "image/png": "[encoded data removed]",
      "text/plain": [
       "<matplotlib.figure.Figure at 0x7f76d7f53350>"
      ]
     },
     "metadata": {},
     "output_type": "display_data"
    }
   ],
   "source": [
    "sns.kdeplot(x)\n",
    "plt.hist(x,normed=True)\n",
    "plt.xlim(0.5,2)"
   ]
  },
  {
   "cell_type": "code",
   "execution_count": 80,
   "metadata": {
    "collapsed": false
   },
   "outputs": [],
   "source": [
    "datKHl=np.loadtxt(\"datosestrellas/LCC.txt\", skiprows=1,usecols=(3,4,18,19,20))"
   ]
  },
  {
   "cell_type": "code",
   "execution_count": 82,
   "metadata": {
    "collapsed": true
   },
   "outputs": [],
   "source": [
    "datKHu=np.loadtxt(\"datosestrellas/UCL.txt\", skiprows=1,usecols=(3,4,18,19,20))"
   ]
  },
  {
   "cell_type": "code",
   "execution_count": 84,
   "metadata": {
    "collapsed": false
   },
   "outputs": [
    {
     "data": {
      "text/plain": [
       "(24, 5)"
      ]
     },
     "execution_count": 84,
     "metadata": {},
     "output_type": "execute_result"
    }
   ],
   "source": [
    "datKHu.shape"
   ]
  },
  {
   "cell_type": "code",
   "execution_count": 85,
   "metadata": {
    "collapsed": false
   },
   "outputs": [
    {
     "data": {
      "text/plain": [
       "(25, 15)"
      ]
     },
     "execution_count": 85,
     "metadata": {},
     "output_type": "execute_result"
    }
   ],
   "source": [
    "errucl.shape"
   ]
  },
  {
   "cell_type": "code",
   "execution_count": 86,
   "metadata": {
    "collapsed": true
   },
   "outputs": [],
   "source": [
    "dfos=pd.read_csv(\"datosestrellas/ownsample.csv\")"
   ]
  },
  {
   "cell_type": "code",
   "execution_count": 90,
   "metadata": {
    "collapsed": false
   },
   "outputs": [
    {
     "data": {
      "text/plain": [
       "array([ 0.   ,  0.   ,  0.   ,  0.   ,  0.   ,  0.   ,  0.   ,  0.   ,\n",
       "        0.   ,  0.004,  0.006,  0.016,  0.019,  0.029,  0.032,  0.044,\n",
       "        0.046,  0.052,  0.054,  0.055,  0.062,  0.065,  0.066,  0.066,\n",
       "        0.067,  0.07 ,  0.074,  0.075,  0.075,  0.076,  0.081,  0.083,\n",
       "        0.097,  0.101,  0.106,  0.121,  0.134,  0.136,  0.141,  0.148,\n",
       "        0.167,  0.169,  0.171,  0.173,  0.186,  0.206,  0.269,  0.274,\n",
       "        0.275,  0.278,  0.319])"
      ]
     },
     "execution_count": 90,
     "metadata": {},
     "output_type": "execute_result"
    }
   ],
   "source": [
    "np.sort(dfos.ExcU)"
   ]
  },
  {
   "cell_type": "code",
   "execution_count": 161,
   "metadata": {
    "collapsed": false,
    "scrolled": true
   },
   "outputs": [
    {
     "data": {
      "text/html": [
       "<div>\n",
       "<table border=\"1\" class=\"dataframe\">\n",
       "  <thead>\n",
       "    <tr style=\"text-align: right;\">\n",
       "      <th></th>\n",
       "      <th>ID</th>\n",
       "      <th>Group</th>\n",
       "      <th>RAC</th>\n",
       "      <th>DEC</th>\n",
       "      <th>ST</th>\n",
       "      <th>V</th>\n",
       "      <th>U-B</th>\n",
       "      <th>E(U-B)</th>\n",
       "      <th>B-V</th>\n",
       "      <th>E(B-V)</th>\n",
       "      <th>...</th>\n",
       "      <th>d</th>\n",
       "      <th>vsini</th>\n",
       "      <th>Lx/Lbol</th>\n",
       "      <th>ExcU</th>\n",
       "      <th>U-V</th>\n",
       "      <th>E(U-V)</th>\n",
       "      <th>StP</th>\n",
       "      <th>V-R</th>\n",
       "      <th>E(V-R)</th>\n",
       "      <th>E(U)</th>\n",
       "    </tr>\n",
       "  </thead>\n",
       "  <tbody>\n",
       "    <tr>\n",
       "      <th>0</th>\n",
       "      <td>MML36</td>\n",
       "      <td>UCL</td>\n",
       "      <td>133757.2959</td>\n",
       "      <td>-413441.826</td>\n",
       "      <td>K0IV</td>\n",
       "      <td>10.118</td>\n",
       "      <td>0.509</td>\n",
       "      <td>0.077</td>\n",
       "      <td>0.865</td>\n",
       "      <td>0.021</td>\n",
       "      <td>...</td>\n",
       "      <td>97.75</td>\n",
       "      <td>13.6</td>\n",
       "      <td>-3.2</td>\n",
       "      <td>0.066</td>\n",
       "      <td>1.374</td>\n",
       "      <td>0.079</td>\n",
       "      <td>50</td>\n",
       "      <td>0.4970</td>\n",
       "      <td>0.0170</td>\n",
       "      <td>0.088397</td>\n",
       "    </tr>\n",
       "    <tr>\n",
       "      <th>1</th>\n",
       "      <td>HIP66941</td>\n",
       "      <td>UCL</td>\n",
       "      <td>13438.6939</td>\n",
       "      <td>-69739.468</td>\n",
       "      <td>G5IV</td>\n",
       "      <td>7.597</td>\n",
       "      <td>0.233</td>\n",
       "      <td>0.063</td>\n",
       "      <td>0.717</td>\n",
       "      <td>0.020</td>\n",
       "      <td>...</td>\n",
       "      <td>124.22</td>\n",
       "      <td>215.0</td>\n",
       "      <td>-3.5</td>\n",
       "      <td>0.275</td>\n",
       "      <td>0.950</td>\n",
       "      <td>0.066</td>\n",
       "      <td>45</td>\n",
       "      <td>0.4065</td>\n",
       "      <td>0.0205</td>\n",
       "      <td>0.071784</td>\n",
       "    </tr>\n",
       "    <tr>\n",
       "      <th>2</th>\n",
       "      <td>MML38</td>\n",
       "      <td>UCL</td>\n",
       "      <td>134750.5514</td>\n",
       "      <td>-4925.521</td>\n",
       "      <td>G9IVe</td>\n",
       "      <td>10.892</td>\n",
       "      <td>0.388</td>\n",
       "      <td>0.095</td>\n",
       "      <td>0.846</td>\n",
       "      <td>0.022</td>\n",
       "      <td>...</td>\n",
       "      <td>148.14</td>\n",
       "      <td>67.0</td>\n",
       "      <td>-3.2</td>\n",
       "      <td>0.206</td>\n",
       "      <td>1.234</td>\n",
       "      <td>0.097</td>\n",
       "      <td>49</td>\n",
       "      <td>0.4810</td>\n",
       "      <td>0.0160</td>\n",
       "      <td>0.109133</td>\n",
       "    </tr>\n",
       "    <tr>\n",
       "      <th>3</th>\n",
       "      <td>HIP67522</td>\n",
       "      <td>UCL</td>\n",
       "      <td>13506.2795</td>\n",
       "      <td>-40508.886</td>\n",
       "      <td>G9IVe</td>\n",
       "      <td>9.801</td>\n",
       "      <td>0.142</td>\n",
       "      <td>0.037</td>\n",
       "      <td>0.653</td>\n",
       "      <td>0.013</td>\n",
       "      <td>...</td>\n",
       "      <td>125.94</td>\n",
       "      <td>51.0</td>\n",
       "      <td>-3.5</td>\n",
       "      <td>0.065</td>\n",
       "      <td>0.795</td>\n",
       "      <td>0.039</td>\n",
       "      <td>49</td>\n",
       "      <td>0.3730</td>\n",
       "      <td>0.0090</td>\n",
       "      <td>0.054608</td>\n",
       "    </tr>\n",
       "    <tr>\n",
       "      <th>4</th>\n",
       "      <td>MML39</td>\n",
       "      <td>UCL</td>\n",
       "      <td>135247.7974</td>\n",
       "      <td>-46449.214</td>\n",
       "      <td>F8V</td>\n",
       "      <td>9.591</td>\n",
       "      <td>0.092</td>\n",
       "      <td>0.091</td>\n",
       "      <td>0.591</td>\n",
       "      <td>0.018</td>\n",
       "      <td>...</td>\n",
       "      <td>144.55</td>\n",
       "      <td>25.9</td>\n",
       "      <td>-3.3</td>\n",
       "      <td>0.000</td>\n",
       "      <td>0.683</td>\n",
       "      <td>0.092</td>\n",
       "      <td>38</td>\n",
       "      <td>0.3680</td>\n",
       "      <td>0.0140</td>\n",
       "      <td>0.103990</td>\n",
       "    </tr>\n",
       "  </tbody>\n",
       "</table>\n",
       "<p>5 rows × 24 columns</p>\n",
       "</div>"
      ],
      "text/plain": [
       "         ID Group          RAC         DEC     ST       V    U-B  E(U-B)  \\\n",
       "0     MML36   UCL  133757.2959 -413441.826   K0IV  10.118  0.509   0.077   \n",
       "1  HIP66941   UCL   13438.6939  -69739.468   G5IV   7.597  0.233   0.063   \n",
       "2     MML38   UCL  134750.5514   -4925.521  G9IVe  10.892  0.388   0.095   \n",
       "3  HIP67522   UCL   13506.2795  -40508.886  G9IVe   9.801  0.142   0.037   \n",
       "4     MML39   UCL  135247.7974  -46449.214    F8V   9.591  0.092   0.091   \n",
       "\n",
       "     B-V  E(B-V)    ...          d  vsini  Lx/Lbol   ExcU    U-V  E(U-V)  StP  \\\n",
       "0  0.865   0.021    ...      97.75   13.6     -3.2  0.066  1.374   0.079   50   \n",
       "1  0.717   0.020    ...     124.22  215.0     -3.5  0.275  0.950   0.066   45   \n",
       "2  0.846   0.022    ...     148.14   67.0     -3.2  0.206  1.234   0.097   49   \n",
       "3  0.653   0.013    ...     125.94   51.0     -3.5  0.065  0.795   0.039   49   \n",
       "4  0.591   0.018    ...     144.55   25.9     -3.3  0.000  0.683   0.092   38   \n",
       "\n",
       "      V-R  E(V-R)      E(U)  \n",
       "0  0.4970  0.0170  0.088397  \n",
       "1  0.4065  0.0205  0.071784  \n",
       "2  0.4810  0.0160  0.109133  \n",
       "3  0.3730  0.0090  0.054608  \n",
       "4  0.3680  0.0140  0.103990  \n",
       "\n",
       "[5 rows x 24 columns]"
      ]
     },
     "execution_count": 161,
     "metadata": {},
     "output_type": "execute_result"
    }
   ],
   "source": [
    "dfos.head()"
   ]
  },
  {
   "cell_type": "code",
   "execution_count": 263,
   "metadata": {
    "collapsed": true
   },
   "outputs": [],
   "source": [
    "x=dfos['U-V']"
   ]
  },
  {
   "cell_type": "code",
   "execution_count": 264,
   "metadata": {
    "collapsed": true
   },
   "outputs": [],
   "source": [
    "y=dfos['E(U-V)']"
   ]
  },
  {
   "cell_type": "code",
   "execution_count": 265,
   "metadata": {
    "collapsed": true
   },
   "outputs": [],
   "source": [
    "from sklearn.neighbors import KernelDensity\n",
    "\n",
    "\n",
    "def kde_sklearn(x, x_grid, bandwidth=0.2, **kwargs):\n",
    "    \"\"\"Kernel Density Estimation with Scikit-learn\"\"\"\n",
    "    kde_skl = KernelDensity(bandwidth=bandwidth, **kwargs)\n",
    "    kde_skl.fit(x[:, np.newaxis])\n",
    "    # score_samples() returns the log-likelihood of the samples\n",
    "    log_pdf = kde_skl.score_samples(x_grid[:, np.newaxis])\n",
    "    return np.exp(log_pdf)"
   ]
  },
  {
   "cell_type": "code",
   "execution_count": 275,
   "metadata": {
    "collapsed": false
   },
   "outputs": [],
   "source": [
    "x_grid=np.linspace(x.min(),x.max(),1000)\n",
    "y_grid=np.linspace(y.min(),y.max(),1000)"
   ]
  },
  {
   "cell_type": "code",
   "execution_count": 268,
   "metadata": {
    "collapsed": false
   },
   "outputs": [
    {
     "data": {
      "text/plain": [
       "<matplotlib.legend.Legend at 0x7f76d5fc6b90>"
      ]
     },
     "execution_count": 268,
     "metadata": {},
     "output_type": "execute_result"
    },
    {
     "data": {
      "image/png": "[encoded data removed]",
      "text/plain": [
       "<matplotlib.figure.Figure at 0x7f76d61f5950>"
      ]
     },
     "metadata": {},
     "output_type": "display_data"
    }
   ],
   "source": [
    "fig, ax = plt.subplots()\n",
    "for bandwidth in [0.1, 0.3, 1.0]:\n",
    "    ax.plot(x_grid, kde_sklearn(x, x_grid, bandwidth=bandwidth),\n",
    "            label='bw={0}'.format(bandwidth), linewidth=3)\n",
    "ax.hist(x, 30, fc='gray', histtype='stepfilled', alpha=0.3, normed=True)\n",
    "ax.set_xlim(x.min(), x.max())\n",
    "ax.legend(loc='upper left')"
   ]
  },
  {
   "cell_type": "code",
   "execution_count": 296,
   "metadata": {
    "collapsed": false
   },
   "outputs": [
    {
     "name": "stdout",
     "output_type": "stream",
     "text": [
      "{'bandwidth': 0.1310344827586207}\n"
     ]
    }
   ],
   "source": [
    "\n",
    "\n",
    "from sklearn.grid_search import GridSearchCV\n",
    "grid = GridSearchCV(KernelDensity(),\n",
    "                    {'bandwidth': np.linspace(0.1, 1.0, 30)},\n",
    "                    cv=20) # 20-fold cross-validation\n",
    "grid.fit(x[:, None])\n",
    "print grid.best_params_\n",
    "\n"
   ]
  },
  {
   "cell_type": "code",
   "execution_count": 297,
   "metadata": {
    "collapsed": false
   },
   "outputs": [
    {
     "data": {
      "text/plain": [
       "(0.68299999999999994, 1.8759999999999999)"
      ]
     },
     "execution_count": 297,
     "metadata": {},
     "output_type": "execute_result"
    },
    {
     "data": {
      "image/png": "[encoded data removed]",
      "text/plain": [
       "<matplotlib.figure.Figure at 0x7f76d51fc6d0>"
      ]
     },
     "metadata": {},
     "output_type": "display_data"
    }
   ],
   "source": [
    "kde = grid.best_estimator_\n",
    "pdf = np.exp(kde.score_samples(x_grid[:, None]))\n",
    "\n",
    "fig, ax = plt.subplots()\n",
    "ax.plot(x_grid, pdf, linewidth=3, alpha=0.5, label='bw=%.2f' % kde.bandwidth)\n",
    "ax.hist(x, 30, fc='gray', histtype='stepfilled', alpha=0.3, normed=True)\n",
    "ax.legend(loc='upper left')\n",
    "ax.set_xlim(x.min(), x.max())\n"
   ]
  },
  {
   "cell_type": "code",
   "execution_count": 294,
   "metadata": {
    "collapsed": false
   },
   "outputs": [
    {
     "name": "stdout",
     "output_type": "stream",
     "text": [
      "{'bandwidth': 0.047241379310344833}\n"
     ]
    },
    {
     "data": {
      "text/plain": [
       "<matplotlib.legend.Legend at 0x7f76d5168d90>"
      ]
     },
     "execution_count": 294,
     "metadata": {},
     "output_type": "execute_result"
    },
    {
     "data": {
      "image/png": "[encoded data removed]",
      "text/plain": [
       "<matplotlib.figure.Figure at 0x7f76d52a5450>"
      ]
     },
     "metadata": {},
     "output_type": "display_data"
    }
   ],
   "source": [
    "\n",
    "\n",
    "from sklearn.grid_search import GridSearchCV\n",
    "grid = GridSearchCV(KernelDensity(),\n",
    "                    {'bandwidth': np.linspace(0.01, 0.05, 30)},\n",
    "                    cv=20) # 20-fold cross-validation\n",
    "grid.fit(y[:, None])\n",
    "print grid.best_params_\n",
    "kde = grid.best_estimator_\n",
    "pdfy = np.exp(kde.score_samples(y_grid[:, None]))\n",
    "\n",
    "fig, ax = plt.subplots()\n",
    "ax.plot(y_grid, pdfy, linewidth=3, alpha=0.5, label='bw=%.2f' % kde.bandwidth)\n",
    "ax.hist(y, 30, fc='gray', histtype='stepfilled', alpha=0.3, normed=True)\n",
    "ax.legend(loc='upper left')"
   ]
  },
  {
   "cell_type": "code",
   "execution_count": 273,
   "metadata": {
    "collapsed": false
   },
   "outputs": [
    {
     "data": {
      "text/plain": [
       "<matplotlib.collections.PathCollection at 0x7f76d5c30090>"
      ]
     },
     "execution_count": 273,
     "metadata": {},
     "output_type": "execute_result"
    },
    {
     "data": {
      "image/png": "[encoded data removed]",
      "text/plain": [
       "<matplotlib.figure.Figure at 0x7f76d604ddd0>"
      ]
     },
     "metadata": {},
     "output_type": "display_data"
    }
   ],
   "source": [
    "plt.scatter(x,y*(x.max()-x.min())/(y.max()-y.min()))"
   ]
  },
  {
   "cell_type": "code",
   "execution_count": 276,
   "metadata": {
    "collapsed": true
   },
   "outputs": [],
   "source": [
    "conv=(x.max()-x.min())/(y.max()-y.min())\n",
    "y=y*conv\n",
    "y_grid=y_grid*conv"
   ]
  },
  {
   "cell_type": "code",
   "execution_count": 277,
   "metadata": {
    "collapsed": false
   },
   "outputs": [
    {
     "name": "stdout",
     "output_type": "stream",
     "text": [
      "{'bandwidth': 0.12793103448275864}\n"
     ]
    }
   ],
   "source": [
    "\n",
    "\n",
    "from sklearn.grid_search import GridSearchCV\n",
    "grid = GridSearchCV(KernelDensity(),\n",
    "                    {'bandwidth': np.linspace(0.01,0.2, 30)},\n",
    "                    cv=20) # 20-fold cross-validation\n",
    "grid.fit(np.vstack([x,y]).T)\n",
    "print grid.best_params_\n"
   ]
  },
  {
   "cell_type": "code",
   "execution_count": 278,
   "metadata": {
    "collapsed": false
   },
   "outputs": [],
   "source": [
    "X, Y = np.meshgrid(x_grid, y_grid)\n",
    "\n",
    "xy = np.vstack([X.ravel(), Y.ravel()]).T"
   ]
  },
  {
   "cell_type": "code",
   "execution_count": 279,
   "metadata": {
    "collapsed": false
   },
   "outputs": [],
   "source": [
    "kde2d = grid.best_estimator_\n",
    "pdf2d = np.exp(kde2d.score_samples(xy)).reshape(X.shape)\n"
   ]
  },
  {
   "cell_type": "code",
   "execution_count": 298,
   "metadata": {
    "collapsed": false,
    "scrolled": true
   },
   "outputs": [
    {
     "data": {
      "text/plain": [
       "<matplotlib.contour.QuadContourSet instance at 0x7f76d501ed88>"
      ]
     },
     "execution_count": 298,
     "metadata": {},
     "output_type": "execute_result"
    },
    {
     "data": {
      "image/png": "[encoded data removed]",
      "text/plain": [
       "<matplotlib.figure.Figure at 0x7f76d5478b50>"
      ]
     },
     "metadata": {},
     "output_type": "display_data"
    }
   ],
   "source": [
    "plt.figure(figsize=(5,5))\n",
    "levels = np.linspace(0, pdf2d.max(), 25)\n",
    "plt.contourf(X, Y, pdf2d, levels=levels, cmap=plt.cm.Reds)"
   ]
  },
  {
   "cell_type": "code",
   "execution_count": 299,
   "metadata": {
    "collapsed": false
   },
   "outputs": [
    {
     "data": {
      "text/plain": [
       "<matplotlib.contour.QuadContourSet instance at 0x7f76d4e4f128>"
      ]
     },
     "execution_count": 299,
     "metadata": {},
     "output_type": "execute_result"
    },
    {
     "data": {
      "image/png": "[encoded data removed]",
      "text/plain": [
       "<matplotlib.figure.Figure at 0x7f76d5478e50>"
      ]
     },
     "metadata": {},
     "output_type": "display_data"
    }
   ],
   "source": [
    "plt.figure(figsize=(5,5))\n",
    "levels = np.linspace(0, (pdf2d/pdf).max(), 25)\n",
    "plt.contourf(X, Y, pdf2d/pdf, levels=levels, cmap=plt.cm.Reds)"
   ]
  },
  {
   "cell_type": "code",
   "execution_count": 300,
   "metadata": {
    "collapsed": false
   },
   "outputs": [
    {
     "data": {
      "text/plain": [
       "<matplotlib.collections.PathCollection at 0x7f76d4ce5b10>"
      ]
     },
     "execution_count": 300,
     "metadata": {},
     "output_type": "execute_result"
    },
    {
     "data": {
      "image/png": "[encoded data removed]",
      "text/plain": [
       "<matplotlib.figure.Figure at 0x7f76d4ebcfd0>"
      ]
     },
     "metadata": {},
     "output_type": "display_data"
    }
   ],
   "source": [
    "plt.scatter(y_grid,(pdf2d/pdf).sum(axis=1))"
   ]
  },
  {
   "cell_type": "code",
   "execution_count": 301,
   "metadata": {
    "collapsed": false
   },
   "outputs": [
    {
     "data": {
      "text/plain": [
       "<matplotlib.collections.PathCollection at 0x7f76d4c33110>"
      ]
     },
     "execution_count": 301,
     "metadata": {},
     "output_type": "execute_result"
    },
    {
     "data": {
      "image/png": "[encoded data removed]",
      "text/plain": [
       "<matplotlib.figure.Figure at 0x7f76d4d07410>"
      ]
     },
     "metadata": {},
     "output_type": "display_data"
    }
   ],
   "source": [
    "plt.scatter(y_grid,(pdf2d).sum(axis=1))"
   ]
  },
  {
   "cell_type": "code",
   "execution_count": null,
   "metadata": {
    "collapsed": true
   },
   "outputs": [],
   "source": []
  },
  {
   "cell_type": "code",
   "execution_count": null,
   "metadata": {
    "collapsed": true
   },
   "outputs": [],
   "source": []
  },
  {
   "cell_type": "code",
   "execution_count": null,
   "metadata": {
    "collapsed": true
   },
   "outputs": [],
   "source": []
  },
  {
   "cell_type": "code",
   "execution_count": null,
   "metadata": {
    "collapsed": true
   },
   "outputs": [],
   "source": []
  },
  {
   "cell_type": "code",
   "execution_count": 258,
   "metadata": {
    "collapsed": false
   },
   "outputs": [],
   "source": [
    "arra=np.arange(len(pdf2d))"
   ]
  },
  {
   "cell_type": "code",
   "execution_count": 261,
   "metadata": {
    "collapsed": false
   },
   "outputs": [
    {
     "data": {
      "text/plain": [
       "array([[  1.51618764e+16,   1.03915543e+16,   7.13297076e+15, ...,\n",
       "          4.66352080e-01,   5.77084371e-01,   7.15299192e-01],\n",
       "       [  1.60692941e+16,   1.10135149e+16,   7.55992478e+15, ...,\n",
       "          5.04398167e-01,   6.24214400e-01,   7.73778930e-01],\n",
       "       [  1.70271123e+16,   1.16700238e+16,   8.01059700e+15, ...,\n",
       "          5.45446490e-01,   6.75067470e-01,   8.36883193e-01],\n",
       "       ..., \n",
       "       [  5.53791300e+13,   3.82000623e+13,   2.63925240e+13, ...,\n",
       "          1.81448582e+03,   2.24729708e+03,   2.78760492e+03],\n",
       "       [  5.14381425e+13,   3.54838224e+13,   2.45174036e+13, ...,\n",
       "          1.73430332e+03,   2.14798863e+03,   2.66442023e+03],\n",
       "       [  4.77686019e+13,   3.29545127e+13,   2.27712184e+13, ...,\n",
       "          1.65727272e+03,   2.05258389e+03,   2.54607781e+03]])"
      ]
     },
     "execution_count": 261,
     "metadata": {},
     "output_type": "execute_result"
    }
   ],
   "source": [
    "pdf2d/pdf"
   ]
  },
  {
   "cell_type": "code",
   "execution_count": 260,
   "metadata": {
    "collapsed": false
   },
   "outputs": [
    {
     "data": {
      "text/plain": [
       "array([[             inf,   1.08785170e-05,   5.60862271e-06, ...,\n",
       "          1.07374954e-11,   1.03375988e-11,   9.95240300e-12],\n",
       "       [             inf,   1.15296236e-05,   5.94433473e-06, ...,\n",
       "          1.16134853e-11,   1.11818624e-11,   1.07660680e-11],\n",
       "       [             inf,   1.22168974e-05,   6.29869626e-06, ...,\n",
       "          1.25585999e-11,   1.20928186e-11,   1.16440769e-11],\n",
       "       ..., \n",
       "       [             inf,   3.99901706e-08,   2.07523225e-08, ...,\n",
       "          4.17775196e-08,   4.02569481e-08,   3.87856828e-08],\n",
       "       [             inf,   3.71466439e-08,   1.92779238e-08, ...,\n",
       "          3.99313626e-08,   3.84779865e-08,   3.70717376e-08],\n",
       "       [             inf,   3.44988072e-08,   1.79049062e-08, ...,\n",
       "          3.81577761e-08,   3.67689540e-08,   3.54251658e-08]])"
      ]
     },
     "execution_count": 260,
     "metadata": {},
     "output_type": "execute_result"
    }
   ],
   "source": [
    "pdf2d/arra"
   ]
  },
  {
   "cell_type": "code",
   "execution_count": null,
   "metadata": {
    "collapsed": true
   },
   "outputs": [],
   "source": []
  },
  {
   "cell_type": "code",
   "execution_count": null,
   "metadata": {
    "collapsed": true
   },
   "outputs": [],
   "source": []
  },
  {
   "cell_type": "code",
   "execution_count": null,
   "metadata": {
    "collapsed": true
   },
   "outputs": [],
   "source": []
  },
  {
   "cell_type": "code",
   "execution_count": 222,
   "metadata": {
    "collapsed": true
   },
   "outputs": [],
   "source": [
    "def kde_sklearn2d(x, x_grid, bandwidth=0.2, **kwargs):\n",
    "    \"\"\"Kernel Density Estimation with Scikit-learn\"\"\"\n",
    "    kde_skl = KernelDensity(bandwidth=bandwidth, **kwargs)\n",
    "    kde_skl.fit(x)\n",
    "    # score_samples() returns the log-likelihood of the samples\n",
    "    log_pdf = kde_skl.score_samples(x_grid)\n",
    "    return np.exp(log_pdf)"
   ]
  },
  {
   "cell_type": "code",
   "execution_count": 223,
   "metadata": {
    "collapsed": false
   },
   "outputs": [
    {
     "data": {
      "text/plain": [
       "<matplotlib.contour.QuadContourSet instance at 0x7f76d6d6a560>"
      ]
     },
     "execution_count": 223,
     "metadata": {},
     "output_type": "execute_result"
    },
    {
     "data": {
      "image/png": "[encoded data removed]",
      "text/plain": [
       "<matplotlib.figure.Figure at 0x7f76d7395fd0>"
      ]
     },
     "metadata": {},
     "output_type": "display_data"
    }
   ],
   "source": [
    "kde2d=kde_sklearn2d(np.vstack([x,y]).T, xy, bandwidth=0.07).reshape(X.shape)\n",
    "levels = np.linspace(0, kde2d.max(), 25)\n",
    "plt.contourf(X, Y, kde2d, levels=levels, cmap=plt.cm.Reds)"
   ]
  },
  {
   "cell_type": "code",
   "execution_count": null,
   "metadata": {
    "collapsed": true
   },
   "outputs": [],
   "source": []
  },
  {
   "cell_type": "code",
   "execution_count": 121,
   "metadata": {
    "collapsed": false
   },
   "outputs": [
    {
     "data": {
      "text/plain": [
       "array([ 0.0154614 ,  0.01592878,  0.01640813,  0.01689966,  0.01740363,\n",
       "        0.01792025,  0.01844979,  0.01899247,  0.01954854,  0.02011825,\n",
       "        0.02070185,  0.02129959,  0.02191172,  0.0225385 ,  0.02318018,\n",
       "        0.02383702,  0.02450927,  0.02519721,  0.02590109,  0.02662118,\n",
       "        0.02735775,  0.02811105,  0.02888136,  0.02966895,  0.03047408,\n",
       "        0.03129703,  0.03213807,  0.03299747,  0.03387551,  0.03477245,\n",
       "        0.03568858,  0.03662416,  0.03757948,  0.0385548 ,  0.0395504 ,\n",
       "        0.04056655,  0.04160354,  0.04266163,  0.04374109,  0.0448422 ,\n",
       "        0.04596524,  0.04711046,  0.04827815,  0.04946857,  0.05068198,\n",
       "        0.05191867,  0.05317888,  0.05446289,  0.05577095,  0.05710333,\n",
       "        0.05846028,  0.05984206,  0.06124892,  0.06268111,  0.06413888,\n",
       "        0.06562247,  0.06713213,  0.0686681 ,  0.07023061,  0.07181989,\n",
       "        0.07343618,  0.0750797 ,  0.07675067,  0.07844931,  0.08017583,\n",
       "        0.08193045,  0.08371336,  0.08552478,  0.08736489,  0.08923389,\n",
       "        0.09113196,  0.09305929,  0.09501605,  0.09700241,  0.09901855,\n",
       "        0.10106461,  0.10314075,  0.10524712,  0.10738387,  0.10955113,\n",
       "        0.11174903,  0.11397769,  0.11623723,  0.11852776,  0.12084939,\n",
       "        0.1232022 ,  0.1255863 ,  0.12800177,  0.13044867,  0.13292708,\n",
       "        0.13543706,  0.13797866,  0.14055193,  0.14315691,  0.14579363,\n",
       "        0.1484621 ,  0.15116235,  0.15389437,  0.15665818,  0.15945376,\n",
       "        0.16228108,  0.16514014,  0.16803088,  0.17095327,  0.17390725,\n",
       "        0.17689277,  0.17990976,  0.18295814,  0.18603782,  0.18914871,\n",
       "        0.19229071,  0.19546371,  0.19866757,  0.20190218,  0.2051674 ,\n",
       "        0.20846308,  0.21178906,  0.21514518,  0.21853127,  0.22194714,\n",
       "        0.22539261,  0.22886747,  0.23237152,  0.23590455,  0.23946631,\n",
       "        0.24305659,  0.24667514,  0.25032172,  0.25399605,  0.25769788,\n",
       "        0.26142692,  0.26518291,  0.26896553,  0.27277451,  0.27660952,\n",
       "        0.28047025,  0.28435639,  0.28826759,  0.29220353,  0.29616385,\n",
       "        0.3001482 ,  0.30415623,  0.30818757,  0.31224184,  0.31631866,\n",
       "        0.32041764,  0.3245384 ,  0.32868052,  0.33284362,  0.33702726,\n",
       "        0.34123104,  0.34545452,  0.34969729,  0.3539589 ,  0.35823891,\n",
       "        0.36253688,  0.36685235,  0.37118488,  0.375534  ,  0.37989924,\n",
       "        0.38428014,  0.38867623,  0.39308702,  0.39751204,  0.4019508 ,\n",
       "        0.40640282,  0.41086761,  0.41534466,  0.41983349,  0.4243336 ,\n",
       "        0.42884448,  0.43336564,  0.43789657,  0.44243675,  0.44698569,\n",
       "        0.45154287,  0.45610779,  0.46067992,  0.46525877,  0.46984381,\n",
       "        0.47443453,  0.47903043,  0.48363098,  0.48823567,  0.492844  ,\n",
       "        0.49745544,  0.5020695 ,  0.50668566,  0.51130341,  0.51592224,\n",
       "        0.52054166,  0.52516116,  0.52978024,  0.5343984 ,  0.53901515,\n",
       "        0.54362998,  0.54824243,  0.55285198,  0.55745817,  0.56206051,\n",
       "        0.56665853,  0.57125175,  0.57583971,  0.58042194,  0.58499799,\n",
       "        0.58956738,  0.59412969,  0.59868445,  0.60323124,  0.60776961,\n",
       "        0.61229913,  0.61681939,  0.62132995,  0.62583042,  0.63032037,\n",
       "        0.63479942,  0.63926716,  0.6437232 ,  0.64816717,  0.65259869,\n",
       "        0.65701738,  0.6614229 ,  0.66581487,  0.67019296,  0.67455683,\n",
       "        0.67890613,  0.68324054,  0.68755974,  0.69186342,  0.69615128,\n",
       "        0.70042302,  0.70467834,  0.70891697,  0.71313864,  0.71734307,\n",
       "        0.72153   ,  0.7256992 ,  0.7298504 ,  0.73398339,  0.73809793,\n",
       "        0.7421938 ,  0.74627079,  0.7503287 ,  0.75436733,  0.7583865 ,\n",
       "        0.76238602,  0.76636572,  0.77032544,  0.77426503,  0.77818433,\n",
       "        0.7820832 ,  0.78596151,  0.78981914,  0.79365597,  0.79747188,\n",
       "        0.80126678,  0.80504057,  0.80879315,  0.81252446,  0.81623441,\n",
       "        0.81992294,  0.82358999,  0.8272355 ,  0.83085943,  0.83446174,\n",
       "        0.8380424 ,  0.84160137,  0.84513864,  0.84865419,  0.85214801,\n",
       "        0.8556201 ,  0.85907046,  0.8624991 ,  0.86590603,  0.86929126,\n",
       "        0.87265484,  0.87599677,  0.87931709,  0.88261585,  0.88589307,\n",
       "        0.88914881,  0.89238312,  0.89559604,  0.89878764,  0.90195798,\n",
       "        0.90510711,  0.90823511,  0.91134204,  0.91442797,  0.91749298,\n",
       "        0.92053714,  0.92356053,  0.92656323,  0.92954532,  0.93250688,\n",
       "        0.935448  ,  0.93836876,  0.94126924,  0.94414954,  0.94700972,\n",
       "        0.94984989,  0.95267013,  0.95547051,  0.95825113,  0.96101207,\n",
       "        0.96375342,  0.96647524,  0.96917763,  0.97186066,  0.97452441,\n",
       "        0.97716895,  0.97979435,  0.9824007 ,  0.98498804,  0.98755646,\n",
       "        0.990106  ,  0.99263673,  0.99514871,  0.99764199,  1.00011661,\n",
       "        1.00257262,  1.00501006,  1.00742898,  1.00982939,  1.01221134,\n",
       "        1.01457484,  1.01691991,  1.01924658,  1.02155484,  1.02384471,\n",
       "        1.02611618,  1.02836925,  1.03060391,  1.03282015,  1.03501794,\n",
       "        1.03719726,  1.03935807,  1.04150035,  1.04362403,  1.04572909,\n",
       "        1.04781546,  1.04988308,  1.0519319 ,  1.05396183,  1.0559728 ,\n",
       "        1.05796472,  1.05993752,  1.06189109,  1.06382534,  1.06574016,\n",
       "        1.06763544,  1.06951106,  1.0713669 ,  1.07320283,  1.07501873,\n",
       "        1.07681444,  1.07858984,  1.08034477,  1.08207907,  1.0837926 ,\n",
       "        1.08548518,  1.08715665,  1.08880684,  1.09043557,  1.09204266,\n",
       "        1.09362792,  1.09519117,  1.09673221,  1.09825085,  1.09974688,\n",
       "        1.10122011,  1.10267033,  1.10409734,  1.10550091,  1.10688083,\n",
       "        1.10823689,  1.10956888,  1.11087657,  1.11215973,  1.11341816,\n",
       "        1.11465161,  1.11585987,  1.11704272,  1.11819992,  1.11933126,\n",
       "        1.1204365 ,  1.12151541,  1.12256778,  1.12359339,  1.12459199,\n",
       "        1.12556339,  1.12650734,  1.12742365,  1.12831208,  1.12917243,\n",
       "        1.13000449,  1.13080805,  1.1315829 ,  1.13232884,  1.13304568,\n",
       "        1.13373322,  1.13439128,  1.13501966,  1.13561819,  1.1361867 ,\n",
       "        1.13672501,  1.13723296,  1.13771039,  1.13815716,  1.13857311,\n",
       "        1.13895811,  1.13931203,  1.13963473,  1.13992611,  1.14018605,\n",
       "        1.14041445,  1.14061122,  1.14077627,  1.14090951,  1.14101089,\n",
       "        1.14108035,  1.14111782,  1.14112327,  1.14109666,  1.14103798,\n",
       "        1.1409472 ,  1.14082433,  1.14066936,  1.14048232,  1.14026323,\n",
       "        1.14001212,  1.13972905,  1.13941408,  1.13906726,  1.13868868,\n",
       "        1.13827844,  1.13783662,  1.13736335,  1.13685874,  1.13632294,\n",
       "        1.13575608,  1.13515833,  1.13452984,  1.13387081,  1.13318143,\n",
       "        1.13246189,  1.1317124 ,  1.1309332 ,  1.13012452,  1.12928661,\n",
       "        1.12841972,  1.12752413,  1.12660011,  1.12564797,  1.12466799,\n",
       "        1.1236605 ,  1.12262581,  1.12156427,  1.12047622,  1.11936202,\n",
       "        1.11822202,  1.11705662,  1.11586618,  1.11465112,  1.11341183,\n",
       "        1.11214873,  1.11086224,  1.1095528 ,  1.10822086,  1.10686685,\n",
       "        1.10549123,  1.10409449,  1.10267709,  1.10123951,  1.09978224,\n",
       "        1.09830579,  1.09681065,  1.09529734,  1.09376637,  1.09221827,\n",
       "        1.09065356,  1.08907279,  1.08747648,  1.08586519,  1.08423947,\n",
       "        1.08259985,  1.08094692,  1.07928121,  1.07760331,  1.07591376,\n",
       "        1.07421315,  1.07250204,  1.07078101,  1.06905063,  1.06731148,\n",
       "        1.06556412,  1.06380914,  1.06204712,  1.06027862,  1.05850423,\n",
       "        1.05672451,  1.05494005,  1.0531514 ,  1.05135914,  1.04956383,\n",
       "        1.04776604,  1.04596631,  1.04416522,  1.04236329,  1.0405611 ,\n",
       "        1.03875916,  1.03695802,  1.03515821,  1.03336024,  1.03156465,\n",
       "        1.02977193,  1.02798259,  1.02619712,  1.02441601,  1.02263975,\n",
       "        1.02086879,  1.01910361,  1.01734465,  1.01559235,  1.01384715,\n",
       "        1.01210947,  1.01037973,  1.00865831,  1.00694561,  1.00524201,\n",
       "        1.00354787,  1.00186354,  1.00018938,  0.9985257 ,  0.99687283,\n",
       "        0.99523106,  0.99360068,  0.99198198,  0.9903752 ,  0.98878061,\n",
       "        0.98719843,  0.98562889,  0.98407219,  0.98252851,  0.98099804,\n",
       "        0.97948094,  0.97797734,  0.97648739,  0.97501119,  0.97354884,\n",
       "        0.97210043,  0.97066603,  0.96924569,  0.96783944,  0.96644731,\n",
       "        0.9650693 ,  0.9637054 ,  0.96235558,  0.96101981,  0.95969802,\n",
       "        0.95839014,  0.95709608,  0.95581573,  0.95454899,  0.9532957 ,\n",
       "        0.95205572,  0.95082888,  0.949615  ,  0.94841389,  0.94722533,\n",
       "        0.9460491 ,  0.94488495,  0.94373264,  0.94259189,  0.94146243,\n",
       "        0.94034395,  0.93923614,  0.93813869,  0.93705127,  0.93597351,\n",
       "        0.93490506,  0.93384556,  0.93279461,  0.93175182,  0.93071678,\n",
       "        0.92968909,  0.9286683 ,  0.92765399,  0.9266457 ,  0.92564298,\n",
       "        0.92464537,  0.92365239,  0.92266356,  0.92167838,  0.92069637,\n",
       "        0.91971702,  0.91873982,  0.91776425,  0.91678979,  0.91581591,\n",
       "        0.91484208,  0.91386777,  0.91289243,  0.91191551,  0.91093649,\n",
       "        0.90995479,  0.90896988,  0.9079812 ,  0.9069882 ,  0.90599031,\n",
       "        0.904987  ,  0.90397769,  0.90296184,  0.90193889,  0.9009083 ,\n",
       "        0.89986951,  0.89882198,  0.89776516,  0.89669852,  0.89562151,\n",
       "        0.8945336 ,  0.89343428,  0.892323  ,  0.89119927,  0.89006256,\n",
       "        0.88891237,  0.88774821,  0.88656959,  0.88537602,  0.88416702,\n",
       "        0.88294214,  0.88170091,  0.88044289,  0.87916763,  0.87787471,\n",
       "        0.87656371,  0.87523422,  0.87388584,  0.87251819,  0.87113089,\n",
       "        0.86972357,  0.86829589,  0.8668475 ,  0.86537807,  0.8638873 ,\n",
       "        0.86237488,  0.86084052,  0.85928394,  0.85770489,  0.8561031 ,\n",
       "        0.85447836,  0.85283043,  0.85115912,  0.84946422,  0.84774555,\n",
       "        0.84600296,  0.84423629,  0.84244541,  0.84063019,  0.83879053,\n",
       "        0.83692633,  0.83503752,  0.83312404,  0.83118583,  0.82922286,\n",
       "        0.82723511,  0.82522258,  0.82318527,  0.8211232 ,  0.81903642,\n",
       "        0.81692497,  0.81478892,  0.81262835,  0.81044335,  0.80823402,\n",
       "        0.80600049,  0.80374288,  0.80146134,  0.79915603,  0.79682712,\n",
       "        0.79447479,  0.79209923,  0.78970066,  0.78727928,  0.78483533,\n",
       "        0.78236905,  0.77988068,  0.7773705 ,  0.77483877,  0.77228577,\n",
       "        0.76971179,  0.76711714,  0.76450211,  0.76186704,  0.75921225,\n",
       "        0.75653807,  0.75384484,  0.75113291,  0.74840264,  0.7456544 ,\n",
       "        0.74288854,  0.74010545,  0.7373055 ,  0.73448909,  0.7316566 ,\n",
       "        0.72880843,  0.72594497,  0.72306664,  0.72017384,  0.71726698,\n",
       "        0.71434647,  0.71141273,  0.70846618,  0.70550723,  0.70253631,\n",
       "        0.69955383,  0.69656023,  0.69355592,  0.69054132,  0.68751687,\n",
       "        0.68448298,  0.68144008,  0.67838858,  0.67532891,  0.67226148,\n",
       "        0.6691867 ,  0.666105  ,  0.66301678,  0.65992245,  0.65682241,\n",
       "        0.65371707,  0.65060682,  0.64749205,  0.64437317,  0.64125054,\n",
       "        0.63812456,  0.6349956 ,  0.63186403,  0.62873021,  0.62559452,\n",
       "        0.62245729,  0.6193189 ,  0.61617966,  0.61303994,  0.60990005,\n",
       "        0.60676033,  0.60362109,  0.60048265,  0.59734531,  0.59420937,\n",
       "        0.59107514,  0.58794288,  0.5848129 ,  0.58168545,  0.5785608 ,\n",
       "        0.57543922,  0.57232095,  0.56920624,  0.56609533,  0.56298845,\n",
       "        0.55988582,  0.55678766,  0.55369418,  0.55060558,  0.54752206,\n",
       "        0.54444381,  0.54137101,  0.53830384,  0.53524245,  0.53218703,\n",
       "        0.52913771,  0.52609465,  0.52305799,  0.52002787,  0.51700442,\n",
       "        0.51398775,  0.51097799,  0.50797525,  0.50497963,  0.50199124,\n",
       "        0.49901016,  0.49603648,  0.49307029,  0.49011166,  0.48716067,\n",
       "        0.48421739,  0.48128187,  0.47835418,  0.47543437,  0.47252248,\n",
       "        0.46961857,  0.46672267,  0.46383482,  0.46095506,  0.4580834 ,\n",
       "        0.45521988,  0.45236452,  0.44951734,  0.44667835,  0.44384757,\n",
       "        0.44102501,  0.43821068,  0.43540457,  0.4326067 ,  0.42981706,\n",
       "        0.42703565,  0.42426247,  0.42149752,  0.41874078,  0.41599225,\n",
       "        0.41325193,  0.41051979,  0.40779583,  0.40508003,  0.40237239,\n",
       "        0.39967288,  0.3969815 ,  0.39429822,  0.39162304,  0.38895593,\n",
       "        0.38629688,  0.38364587,  0.38100289,  0.37836792,  0.37574095,\n",
       "        0.37312196,  0.37051094,  0.36790786,  0.36531273,  0.36272551,\n",
       "        0.36014621,  0.35757482,  0.35501131,  0.35245567,  0.34990791,\n",
       "        0.34736802,  0.34483597,  0.34231178,  0.33979543,  0.33728692,\n",
       "        0.33478625,  0.33229342,  0.32980843,  0.32733127,  0.32486196,\n",
       "        0.32240049,  0.31994688,  0.31750112,  0.31506322,  0.31263321,\n",
       "        0.31021107,  0.30779684,  0.30539051,  0.30299212,  0.30060166,\n",
       "        0.29821916,  0.29584464,  0.29347812,  0.29111962,  0.28876916,\n",
       "        0.28642676,  0.28409246,  0.28176627,  0.27944822,  0.27713835,\n",
       "        0.27483667,  0.27254323,  0.27025805,  0.26798117,  0.26571261,\n",
       "        0.26345242,  0.26120063,  0.25895727,  0.25672238,  0.25449601,\n",
       "        0.25227818,  0.25006893,  0.24786831,  0.24567636,  0.24349312,\n",
       "        0.24131862,  0.23915292,  0.23699604,  0.23484805,  0.23270897,\n",
       "        0.23057885,  0.22845774,  0.22634568,  0.22424271,  0.22214888,\n",
       "        0.22006423,  0.2179888 ,  0.21592265,  0.21386581,  0.21181833,\n",
       "        0.20978026,  0.20775163,  0.2057325 ,  0.2037229 ,  0.20172288,\n",
       "        0.19973248,  0.19775175,  0.19578073,  0.19381946,  0.19186799,\n",
       "        0.18992635,  0.18799459,  0.18607275,  0.18416086,  0.18225898,\n",
       "        0.18036713,  0.17848537,  0.17661371,  0.17475222,  0.17290091,\n",
       "        0.17105984,  0.16922902,  0.16740851,  0.16559834,  0.16379853,\n",
       "        0.16200913,  0.16023016,  0.15846166,  0.15670366,  0.15495619,\n",
       "        0.15321928,  0.15149296,  0.14977726,  0.14807221,  0.14637783,\n",
       "        0.14469414,  0.14302119,  0.14135898,  0.13970754,  0.1380669 ,\n",
       "        0.13643708,  0.1348181 ,  0.13320999,  0.13161275,  0.13002641,\n",
       "        0.12845099,  0.12688651,  0.12533298,  0.12379042,  0.12225884,\n",
       "        0.12073826,  0.11922869,  0.11773014,  0.11624263,  0.11476617,\n",
       "        0.11330076,  0.11184641,  0.11040315,  0.10897096,  0.10754986,\n",
       "        0.10613986,  0.10474095,  0.10335315,  0.10197646,  0.10061088,\n",
       "        0.09925641,  0.09791305,  0.0965808 ,  0.09525967,  0.09394965,\n",
       "        0.09265073,  0.09136292,  0.09008622,  0.0888206 ,  0.08756608,\n",
       "        0.08632264,  0.08509028,  0.08386899,  0.08265875,  0.08145957,\n",
       "        0.08027142,  0.0790943 ,  0.07792819,  0.07677308,  0.07562895,\n",
       "        0.0744958 ,  0.0733736 ,  0.07226234,  0.07116199,  0.07007255,\n",
       "        0.06899398,  0.06792628,  0.06686942,  0.06582337,  0.06478811,\n",
       "        0.06376362,  0.06274988,  0.06174685,  0.06075451,  0.05977284,\n",
       "        0.0588018 ,  0.05784136,  0.0568915 ,  0.05595218,  0.05502337])"
      ]
     },
     "execution_count": 121,
     "metadata": {},
     "output_type": "execute_result"
    }
   ],
   "source": [
    "pdf2d"
   ]
  },
  {
   "cell_type": "code",
   "execution_count": null,
   "metadata": {
    "collapsed": true
   },
   "outputs": [],
   "source": []
  },
  {
   "cell_type": "code",
   "execution_count": null,
   "metadata": {
    "collapsed": true
   },
   "outputs": [],
   "source": []
  },
  {
   "cell_type": "code",
   "execution_count": null,
   "metadata": {
    "collapsed": true
   },
   "outputs": [],
   "source": []
  },
  {
   "cell_type": "code",
   "execution_count": null,
   "metadata": {
    "collapsed": true
   },
   "outputs": [],
   "source": []
  },
  {
   "cell_type": "code",
   "execution_count": null,
   "metadata": {
    "collapsed": true
   },
   "outputs": [],
   "source": []
  },
  {
   "cell_type": "code",
   "execution_count": null,
   "metadata": {
    "collapsed": true
   },
   "outputs": [],
   "source": []
  },
  {
   "cell_type": "markdown",
   "metadata": {},
   "source": [
    "# "
   ]
  }
 ],
 "metadata": {
  "kernelspec": {
   "display_name": "Python 2",
   "language": "python",
   "name": "python2"
  },
  "language_info": {
   "codemirror_mode": {
    "name": "ipython",
    "version": 2
   },
   "file_extension": ".py",
   "mimetype": "text/x-python",
   "name": "python",
   "nbconvert_exporter": "python",
   "pygments_lexer": "ipython2",
   "version": "2.7.6"
  }
 },
 "nbformat": 4,
 "nbformat_minor": 0
}
