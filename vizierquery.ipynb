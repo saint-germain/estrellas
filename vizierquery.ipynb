{
 "cells": [
  {
   "cell_type": "code",
   "execution_count": 44,
   "metadata": {
    "collapsed": false
   },
   "outputs": [],
   "source": [
    "from astroquery.vizier import Vizier\n",
    "import numpy as np"
   ]
  },
  {
   "cell_type": "code",
   "execution_count": 142,
   "metadata": {
    "collapsed": false
   },
   "outputs": [],
   "source": [
    "v = Vizier(columns=['name','_RAJ2000', '_DEJ2000','B-V', 'Vmag', 'Plx','U-B','Sp','EW'],column_filters={\"Sp\":\"=K*\"},row_limit=5000)"
   ]
  },
  {
   "cell_type": "code",
   "execution_count": 143,
   "metadata": {
    "collapsed": false
   },
   "outputs": [],
   "source": [
    "result=v.query_object(\"\", catalog=[\"V/73A\"])"
   ]
  },
  {
   "cell_type": "code",
   "execution_count": 144,
   "metadata": {
    "collapsed": false
   },
   "outputs": [
    {
     "data": {
      "text/plain": [
       "TableList with 3 tables:\n",
       "\t'0:V/73A/catalog' with 8 column(s) and 324 row(s) \n",
       "\t'1:V/73A/refs' with 1 column(s) and 544 row(s) \n",
       "\t'2:V/73A/remarks' with 1 column(s) and 591 row(s) "
      ]
     },
     "execution_count": 144,
     "metadata": {},
     "output_type": "execute_result"
    }
   ],
   "source": [
    "result"
   ]
  },
  {
   "cell_type": "code",
   "execution_count": 145,
   "metadata": {
    "collapsed": false
   },
   "outputs": [
    {
     "name": "stdout",
     "output_type": "stream",
     "text": [
      "   name     _RAJ2000  _DEJ2000  B-V   Vmag  U-B      Sp       EW \n",
      "              deg       deg     mag   mag   mag                  \n",
      "---------- --------- --------- ----- ----- ----- ---------- -----\n",
      "  LkH@ 197   2.64788  58.83507    -- 15.30    --      K7,M0 200.0\n",
      " MacC sH15   3.12658  65.55152  1.77 13.85  0.92         K1  15.0\n",
      "  MacC H10   3.22873  65.56941  1.51 14.72  0.52         K4  24.0\n",
      "   MacC H9   3.37170  65.60004  1.28 14.96  0.72         K4  48.0\n",
      "      MC 3   4.19781  65.76100    -- 16.80    --         K5  15.0\n",
      "      MC 4   4.22818  65.78157    -- 14.40    --         K4   5.1\n",
      "  LkH@ 200  10.62251  61.92971    -- 13.70    --         K1  27.0\n",
      "  LkH@ 203  11.11426  62.17964    -- 15.00    --         K5  35.0\n",
      "  LkH@ 204  11.29149  62.07409    -- 15.80    --      K7,M0  38.0\n",
      "  LkH@ 264  44.15622  20.09364  0.83 12.46 -0.46   K5 V(Li)  85.0\n",
      "       ...       ...       ...   ...   ...   ...        ...   ...\n",
      "           325.74823  66.07634    --    --    --         K7  58.0\n",
      "  LkH@ 245 328.37654  47.22074  1.49 15.27  0.51         K4  35.0\n",
      "  LkH@ 231 338.61855  40.70029    -- 16.80    --         K4  55.0\n",
      "  LkH@ 232 338.64108  40.70402    -- 15.90    --         K3  38.0\n",
      "MWC 1080/c 349.35860  60.84530    -- 15.50    --         K2  27.0\n",
      "    BM And 354.41037  48.40351  1.05 12.10  0.59 K5 V(Li) *  25.0\n",
      "   MacC H3 358.61115  66.90523  1.09 14.50 -0.15         K2  11.0\n",
      "  MacC H19 359.39427  64.78034  1.38 14.62 -0.69         K3 103.0\n",
      "   MacC H5 359.83286  66.38681  1.75 15.80    --         K5  26.0\n",
      "MacC H18 n   0.55529  64.90702  1.29 14.21  0.02         K7 118.0\n",
      "Length = 324 rows\n"
     ]
    }
   ],
   "source": [
    "print(result['V/73A/catalog'])"
   ]
  },
  {
   "cell_type": "code",
   "execution_count": 117,
   "metadata": {
    "collapsed": false
   },
   "outputs": [],
   "source": [
    "r=result['V/73A/catalog']"
   ]
  },
  {
   "cell_type": "code",
   "execution_count": 152,
   "metadata": {
    "collapsed": false
   },
   "outputs": [
    {
     "data": {
      "text/html": [
       "&lt;MaskedColumn name=&apos;B-V&apos; dtype=&apos;float32&apos; unit=&apos;mag&apos; format=u&apos;%5.2f&apos; description=u&apos;? B-V color.&apos; length=41&gt;\n",
       "<table>\n",
       "<tr><td>1.33</td></tr>\n",
       "<tr><td>0.86</td></tr>\n",
       "<tr><td>0.94</td></tr>\n",
       "<tr><td>0.83</td></tr>\n",
       "<tr><td>1.03</td></tr>\n",
       "<tr><td>0.85</td></tr>\n",
       "<tr><td>0.97</td></tr>\n",
       "<tr><td>1.12</td></tr>\n",
       "<tr><td>0.82</td></tr>\n",
       "<tr><td>0.84</td></tr>\n",
       "<tr><td>0.84</td></tr>\n",
       "<tr><td>1.29</td></tr>\n",
       "<tr><td>...</td></tr>\n",
       "<tr><td>0.92</td></tr>\n",
       "<tr><td>1.48</td></tr>\n",
       "<tr><td>1.16</td></tr>\n",
       "<tr><td>1.10</td></tr>\n",
       "<tr><td>1.30</td></tr>\n",
       "<tr><td>2.13</td></tr>\n",
       "<tr><td>1.18</td></tr>\n",
       "<tr><td>1.30</td></tr>\n",
       "<tr><td>0.76</td></tr>\n",
       "<tr><td>0.80</td></tr>\n",
       "<tr><td>1.67</td></tr>\n",
       "<tr><td>0.87</td></tr>\n",
       "</table>"
      ],
      "text/plain": [
       "<MaskedColumn name='B-V' dtype='float32' unit='mag' format=u'%5.2f' description=u'? B-V color.' length=41>\n",
       " 1.33\n",
       " 0.86\n",
       " 0.94\n",
       " 0.83\n",
       " 1.03\n",
       " 0.85\n",
       " 0.97\n",
       " 1.12\n",
       " 0.82\n",
       " 0.84\n",
       " 0.84\n",
       " 1.29\n",
       "  ...\n",
       " 0.92\n",
       " 1.48\n",
       " 1.16\n",
       " 1.10\n",
       " 1.30\n",
       " 2.13\n",
       " 1.18\n",
       " 1.30\n",
       " 0.76\n",
       " 0.80\n",
       " 1.67\n",
       " 0.87"
      ]
     },
     "execution_count": 152,
     "metadata": {},
     "output_type": "execute_result"
    }
   ],
   "source": [
    "r[\"B-V\"][np.logical_not(r[\"B-V\"].mask)]"
   ]
  },
  {
   "cell_type": "code",
   "execution_count": 146,
   "metadata": {
    "collapsed": false
   },
   "outputs": [],
   "source": [
    "r.write('datosconk.csv',format='csv')"
   ]
  },
  {
   "cell_type": "code",
   "execution_count": null,
   "metadata": {
    "collapsed": true
   },
   "outputs": [],
   "source": []
  }
 ],
 "metadata": {
  "kernelspec": {
   "display_name": "Python 2",
   "language": "python",
   "name": "python2"
  },
  "language_info": {
   "codemirror_mode": {
    "name": "ipython",
    "version": 2
   },
   "file_extension": ".py",
   "mimetype": "text/x-python",
   "name": "python",
   "nbconvert_exporter": "python",
   "pygments_lexer": "ipython2",
   "version": "2.7.6"
  }
 },
 "nbformat": 4,
 "nbformat_minor": 0
}
